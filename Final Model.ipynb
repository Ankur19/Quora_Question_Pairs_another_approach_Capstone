{
 "cells": [
  {
   "cell_type": "code",
   "execution_count": 1,
   "metadata": {},
   "outputs": [
    {
     "name": "stderr",
     "output_type": "stream",
     "text": [
      "Using TensorFlow backend.\n"
     ]
    }
   ],
   "source": [
    "# import dependencies\n",
    "from __future__ import division \n",
    "import numpy as np\n",
    "import pandas as pd\n",
    "import gc\n",
    "import pickle\n",
    "import re\n",
    "from tqdm import tqdm\n",
    "from sklearn.model_selection import train_test_split\n",
    "from sklearn.metrics import f1_score\n",
    "from keras.models import Sequential\n",
    "from keras.layers.core import Dense, Activation, Dropout\n",
    "from keras.layers.embeddings import Embedding\n",
    "from keras.layers.recurrent import LSTM, GRU\n",
    "from keras.layers.normalization import BatchNormalization\n",
    "from keras.utils import np_utils\n",
    "from keras.layers import Merge, TimeDistributed, Lambda, Conv1D, GlobalMaxPooling1D, GlobalAveragePooling1D\n",
    "\n",
    "from keras.callbacks import ModelCheckpoint, EarlyStopping\n",
    "from keras import backend as K\n",
    "from keras.layers.advanced_activations import PReLU\n",
    "from keras.preprocessing import sequence, text\n",
    "\n",
    "from keras.layers import Input, Bidirectional, LSTM, dot, Flatten, Dense, Reshape, add, Dropout, BatchNormalization,maximum,concatenate,average,multiply,subtract\n",
    "from keras.models import Model\n",
    "\n",
    "import matplotlib\n",
    "%matplotlib inline\n",
    "\n",
    "import matplotlib.pyplot as plt"
   ]
  },
  {
   "cell_type": "code",
   "execution_count": 2,
   "metadata": {
    "collapsed": true
   },
   "outputs": [],
   "source": [
    "# import the preprocessed dataframe\n",
    "import pickle\n",
    "with open('question_pair.pickle', 'rb') as f:\n",
    "    df = pickle.load(f)"
   ]
  },
  {
   "cell_type": "code",
   "execution_count": 3,
   "metadata": {
    "collapsed": true
   },
   "outputs": [],
   "source": [
    "y = df.is_duplicate.values"
   ]
  },
  {
   "cell_type": "code",
   "execution_count": 4,
   "metadata": {
    "collapsed": true
   },
   "outputs": [],
   "source": [
    "tk = text.Tokenizer(num_words=200000)\n",
    "# we use keras Tokenizer to tokenizer the data. \n",
    "# we will only consider top 200000 words that occur in the dataset\n",
    "\n",
    "max_len = 30\n",
    "# the maximum length of each sequence\n",
    "\n",
    "tk.fit_on_texts(list(df.question1.values.astype(str)) + list(df.question2.values.astype(str)))\n",
    "\n",
    "#we now convert the text to numerical data\n",
    "x1 = tk.texts_to_sequences(df.question1.values.astype(str))\n",
    "x2 = tk.texts_to_sequences(df.question2.values.astype(str))\n",
    "\n",
    "# we pad the sequences so that all questions are of the same length(30)\n",
    "x1 = sequence.pad_sequences(x1, maxlen=max_len)\n",
    "x2 = sequence.pad_sequences(x2, maxlen=max_len)\n",
    "\n",
    "#the word_index contains the words in our dataset mapped to numbers\n",
    "word_index = tk.word_index"
   ]
  },
  {
   "cell_type": "code",
   "execution_count": 5,
   "metadata": {
    "collapsed": true
   },
   "outputs": [],
   "source": [
    "#split the dataset to train and test\n",
    "x1_train, x1_test, x2_train, x2_test, y_train, y_test = train_test_split(x1,x2,y, test_size = 0.1,random_state=2017)"
   ]
  },
  {
   "cell_type": "code",
   "execution_count": 6,
   "metadata": {
    "collapsed": true
   },
   "outputs": [],
   "source": [
    "#we import our pretrained weights for the words in our dataset. \n",
    "#This file was created during preprocessing\n",
    "embedding_matrix = np.loadtxt('embeddings.txt')"
   ]
  },
  {
   "cell_type": "code",
   "execution_count": 7,
   "metadata": {},
   "outputs": [
    {
     "data": {
      "text/plain": [
       "(88368, 300)"
      ]
     },
     "execution_count": 7,
     "metadata": {},
     "output_type": "execute_result"
    }
   ],
   "source": [
    "#Just freeing up some ram, the next steps will consume a lot more\n",
    "df=0\n",
    "x1=0\n",
    "x2=0\n",
    "gc.collect()\n",
    "embedding_matrix.shape"
   ]
  },
  {
   "cell_type": "code",
   "execution_count": 9,
   "metadata": {},
   "outputs": [
    {
     "name": "stdout",
     "output_type": "stream",
     "text": [
      "Build model...\n",
      "____________________________________________________________________________________________________\n",
      "Layer (type)                     Output Shape          Param #     Connected to                     \n",
      "====================================================================================================\n",
      "input_3 (InputLayer)             (None, 30)            0                                            \n",
      "____________________________________________________________________________________________________\n",
      "input_4 (InputLayer)             (None, 30)            0                                            \n",
      "____________________________________________________________________________________________________\n",
      "embedding_2 (Embedding)          (None, 30, 300)       26510400    input_3[0][0]                    \n",
      "____________________________________________________________________________________________________\n",
      "embedding_3 (Embedding)          (None, 30, 300)       26510400    input_4[0][0]                    \n",
      "____________________________________________________________________________________________________\n",
      "time_distributed_1 (TimeDistribu (None, 30, 300)       90300       embedding_2[0][0]                \n",
      "____________________________________________________________________________________________________\n",
      "time_distributed_2 (TimeDistribu (None, 30, 300)       90300       embedding_3[0][0]                \n",
      "____________________________________________________________________________________________________\n",
      "lambda_1 (Lambda)                (None, 300)           0           time_distributed_1[0][0]         \n",
      "____________________________________________________________________________________________________\n",
      "lambda_2 (Lambda)                (None, 300)           0           time_distributed_2[0][0]         \n",
      "____________________________________________________________________________________________________\n",
      "subtract_1 (Subtract)            (None, 300)           0           lambda_1[0][0]                   \n",
      "                                                                   lambda_2[0][0]                   \n",
      "____________________________________________________________________________________________________\n",
      "batch_normalization_1 (BatchNorm (None, 300)           1200        subtract_1[0][0]                 \n",
      "____________________________________________________________________________________________________\n",
      "dense_3 (Dense)                  (None, 200)           60200       batch_normalization_1[0][0]      \n",
      "____________________________________________________________________________________________________\n",
      "dropout_1 (Dropout)              (None, 200)           0           dense_3[0][0]                    \n",
      "____________________________________________________________________________________________________\n",
      "batch_normalization_2 (BatchNorm (None, 200)           800         dropout_1[0][0]                  \n",
      "____________________________________________________________________________________________________\n",
      "dense_4 (Dense)                  (None, 200)           40200       batch_normalization_2[0][0]      \n",
      "____________________________________________________________________________________________________\n",
      "dropout_2 (Dropout)              (None, 200)           0           dense_4[0][0]                    \n",
      "____________________________________________________________________________________________________\n",
      "batch_normalization_3 (BatchNorm (None, 200)           800         dropout_2[0][0]                  \n",
      "____________________________________________________________________________________________________\n",
      "dense_5 (Dense)                  (None, 200)           40200       batch_normalization_3[0][0]      \n",
      "____________________________________________________________________________________________________\n",
      "dropout_3 (Dropout)              (None, 200)           0           dense_5[0][0]                    \n",
      "____________________________________________________________________________________________________\n",
      "batch_normalization_4 (BatchNorm (None, 200)           800         dropout_3[0][0]                  \n",
      "____________________________________________________________________________________________________\n",
      "dense_6 (Dense)                  (None, 200)           40200       batch_normalization_4[0][0]      \n",
      "____________________________________________________________________________________________________\n",
      "dropout_4 (Dropout)              (None, 200)           0           dense_6[0][0]                    \n",
      "____________________________________________________________________________________________________\n",
      "batch_normalization_5 (BatchNorm (None, 200)           800         dropout_4[0][0]                  \n",
      "____________________________________________________________________________________________________\n",
      "dense_7 (Dense)                  (None, 200)           40200       batch_normalization_5[0][0]      \n",
      "____________________________________________________________________________________________________\n",
      "dropout_5 (Dropout)              (None, 200)           0           dense_7[0][0]                    \n",
      "____________________________________________________________________________________________________\n",
      "batch_normalization_6 (BatchNorm (None, 200)           800         dropout_5[0][0]                  \n",
      "____________________________________________________________________________________________________\n",
      "dense_8 (Dense)                  (None, 1)             201         batch_normalization_6[0][0]      \n",
      "====================================================================================================\n",
      "Total params: 53,427,801\n",
      "Trainable params: 404,401\n",
      "Non-trainable params: 53,023,400\n",
      "____________________________________________________________________________________________________\n"
     ]
    }
   ],
   "source": [
    "print('Build model...')\n",
    "\n",
    "\n",
    "#ques1 and ques2 define our input dimensions\n",
    "ques1 = Input(shape=(30,))\n",
    "ques2 = Input(shape=(30,))\n",
    "\n",
    "#q1 defines the standalone layers for question1 (1xEmbedding,1xTimeDistributed,1xLambda)\n",
    "\n",
    "#initialize the embedding layer with pretrained glove embeddings. This layer is not trainable\n",
    "#takes question1 vector as input\n",
    "q1 = Embedding(len(word_index) + 1, \n",
    "                 300, \n",
    "                 weights=[embedding_matrix], \n",
    "                 input_length=30, \n",
    "                 trainable=False)(ques1)\n",
    "q1 = TimeDistributed(Dense(300, activation='relu'))(q1)\n",
    "q1 = Lambda(lambda x: K.max(x, axis=1), output_shape=(300,))(q1)\n",
    "\n",
    "#q2 defines the standalone layesr for question2 (1xEmbedding,1xTimeDistributed,1xLambda)\n",
    "\n",
    "#initialize the embedding layer with pretrained glove embeddings. This layer is not trainable\n",
    "#takes question2 vector as input\n",
    "q2 = Embedding(len(word_index) + 1, \n",
    "                 300, \n",
    "                 weights=[embedding_matrix], \n",
    "                 input_length=30, \n",
    "                 trainable=False)(ques2)\n",
    "q2 = TimeDistributed(Dense(300, activation='relu'))(q2)\n",
    "q2 = Lambda(lambda x: K.max(x, axis=1), output_shape=(300,))(q2)\n",
    "\n",
    "\n",
    "# merge the models by substracting output of q2 from q1\n",
    "merged = subtract([q1,q2])\n",
    "\n",
    "# BatchNormalize the substraction results\n",
    "merged = BatchNormalization()(merged)\n",
    "\n",
    "#the Fully Connected Layers consisting of Dense layers with Dropouts and BatchNormalization\n",
    "merged = Dense(200, activation='relu')(merged)\n",
    "merged = Dropout(0.5)(merged)\n",
    "merged = BatchNormalization()(merged)\n",
    "merged = Dense(200, activation='relu')(merged)\n",
    "merged = Dropout(0.5)(merged)\n",
    "merged = BatchNormalization()(merged)\n",
    "merged = Dense(200, activation='relu')(merged)\n",
    "merged = Dropout(0.1)(merged)\n",
    "merged = BatchNormalization()(merged)\n",
    "merged = Dense(200, activation='relu')(merged)\n",
    "merged = Dropout(0.1)(merged)\n",
    "merged = BatchNormalization()(merged)\n",
    "merged = Dense(200, activation='relu')(merged)\n",
    "merged = Dropout(0.1)(merged)\n",
    "merged = BatchNormalization()(merged)\n",
    "\n",
    "#the final layer is a single output layer with sigmoid activation since we only need the \n",
    "#predicted probabilities for our binary classes\n",
    "\n",
    "merged = Dense(1, activation='sigmoid')(merged)\n",
    "\n",
    "\n",
    "# create the model with 2 inputs and single output\n",
    "model = Model(inputs=[ques1,ques2], outputs=merged)\n",
    "\n",
    "#checkpoint will help us save the model weights with best accuracy\n",
    "checkpoint = ModelCheckpoint('real_merge_2.h5', monitor='val_acc', save_best_only=True, verbose=2)\n",
    "\n",
    "#estop will help us stop the model when there is no improvement in 20 iterations\n",
    "estop = EarlyStopping(monitor='val_loss', min_delta=0.001, patience=20, verbose=0, mode='auto')\n",
    "\n",
    "#compile the model with binary-crossentropy and adam optimizer\n",
    "model.compile(loss='binary_crossentropy', optimizer='adam', metrics=['accuracy'])\n",
    "\n",
    "\n",
    "#summary() function allows us to visualize the model architecture\n",
    "model.summary()"
   ]
  },
  {
   "cell_type": "code",
   "execution_count": 16,
   "metadata": {
    "scrolled": false
   },
   "outputs": [
    {
     "name": "stdout",
     "output_type": "stream",
     "text": [
      "Train on 327474 samples, validate on 36387 samples\n",
      "Epoch 1/100\n",
      "327000/327474 [============================>.] - ETA: 0s - loss: 0.5702 - acc: 0.7016Epoch 00000: val_acc improved from -inf to 0.73136, saving model to real_merge_2.h5\n",
      "327474/327474 [==============================] - 19s - loss: 0.5701 - acc: 0.7016 - val_loss: 0.5240 - val_acc: 0.7314\n",
      "Epoch 2/100\n",
      "327000/327474 [============================>.] - ETA: 0s - loss: 0.4709 - acc: 0.7712Epoch 00001: val_acc improved from 0.73136 to 0.77827, saving model to real_merge_2.h5\n",
      "327474/327474 [==============================] - 19s - loss: 0.4709 - acc: 0.7712 - val_loss: 0.4568 - val_acc: 0.7783\n",
      "Epoch 3/100\n",
      "326500/327474 [============================>.] - ETA: 0s - loss: 0.4236 - acc: 0.7988Epoch 00002: val_acc improved from 0.77827 to 0.79438, saving model to real_merge_2.h5\n",
      "327474/327474 [==============================] - 19s - loss: 0.4235 - acc: 0.7989 - val_loss: 0.4240 - val_acc: 0.7944\n",
      "Epoch 4/100\n",
      "327000/327474 [============================>.] - ETA: 0s - loss: 0.3908 - acc: 0.8187Epoch 00003: val_acc improved from 0.79438 to 0.80985, saving model to real_merge_2.h5\n",
      "327474/327474 [==============================] - 19s - loss: 0.3907 - acc: 0.8187 - val_loss: 0.4002 - val_acc: 0.8098\n",
      "Epoch 5/100\n",
      "326500/327474 [============================>.] - ETA: 0s - loss: 0.3665 - acc: 0.8317Epoch 00004: val_acc improved from 0.80985 to 0.81466, saving model to real_merge_2.h5\n",
      "327474/327474 [==============================] - 21s - loss: 0.3665 - acc: 0.8317 - val_loss: 0.3939 - val_acc: 0.8147\n",
      "Epoch 6/100\n",
      "327000/327474 [============================>.] - ETA: 0s - loss: 0.3462 - acc: 0.8432Epoch 00005: val_acc improved from 0.81466 to 0.82040, saving model to real_merge_2.h5\n",
      "327474/327474 [==============================] - 22s - loss: 0.3462 - acc: 0.8432 - val_loss: 0.3909 - val_acc: 0.8204\n",
      "Epoch 7/100\n",
      "327000/327474 [============================>.] - ETA: 0s - loss: 0.3290 - acc: 0.8522Epoch 00006: val_acc did not improve\n",
      "327474/327474 [==============================] - 21s - loss: 0.3290 - acc: 0.8522 - val_loss: 0.3902 - val_acc: 0.8172\n",
      "Epoch 8/100\n",
      "326500/327474 [============================>.] - ETA: 0s - loss: 0.3136 - acc: 0.8612Epoch 00007: val_acc improved from 0.82040 to 0.82398, saving model to real_merge_2.h5\n",
      "327474/327474 [==============================] - 22s - loss: 0.3136 - acc: 0.8612 - val_loss: 0.3806 - val_acc: 0.8240\n",
      "Epoch 9/100\n",
      "326500/327474 [============================>.] - ETA: 0s - loss: 0.2999 - acc: 0.8679Epoch 00008: val_acc improved from 0.82398 to 0.82859, saving model to real_merge_2.h5\n",
      "327474/327474 [==============================] - 22s - loss: 0.3000 - acc: 0.8679 - val_loss: 0.3834 - val_acc: 0.8286\n",
      "Epoch 10/100\n",
      "326500/327474 [============================>.] - ETA: 0s - loss: 0.2879 - acc: 0.8744Epoch 00009: val_acc did not improve\n",
      "327474/327474 [==============================] - 21s - loss: 0.2880 - acc: 0.8743 - val_loss: 0.3817 - val_acc: 0.8278\n",
      "Epoch 11/100\n",
      "326500/327474 [============================>.] - ETA: 0s - loss: 0.2782 - acc: 0.8798Epoch 00010: val_acc did not improve\n",
      "327474/327474 [==============================] - 21s - loss: 0.2782 - acc: 0.8797 - val_loss: 0.3886 - val_acc: 0.8258\n",
      "Epoch 12/100\n",
      "327000/327474 [============================>.] - ETA: 0s - loss: 0.2680 - acc: 0.8847Epoch 00011: val_acc improved from 0.82859 to 0.82873, saving model to real_merge_2.h5\n",
      "327474/327474 [==============================] - 22s - loss: 0.2679 - acc: 0.8847 - val_loss: 0.3895 - val_acc: 0.8287\n",
      "Epoch 13/100\n",
      "326500/327474 [============================>.] - ETA: 0s - loss: 0.2584 - acc: 0.8893Epoch 00012: val_acc did not improve\n",
      "327474/327474 [==============================] - 21s - loss: 0.2584 - acc: 0.8893 - val_loss: 0.3929 - val_acc: 0.8270\n",
      "Epoch 14/100\n",
      "327000/327474 [============================>.] - ETA: 0s - loss: 0.2502 - acc: 0.8940Epoch 00013: val_acc improved from 0.82873 to 0.83021, saving model to real_merge_2.h5\n",
      "327474/327474 [==============================] - 22s - loss: 0.2503 - acc: 0.8940 - val_loss: 0.3967 - val_acc: 0.8302\n",
      "Epoch 15/100\n",
      "327000/327474 [============================>.] - ETA: 0s - loss: 0.2423 - acc: 0.8977Epoch 00014: val_acc did not improve\n",
      "327474/327474 [==============================] - 21s - loss: 0.2423 - acc: 0.8977 - val_loss: 0.4199 - val_acc: 0.8275\n",
      "Epoch 16/100\n",
      "327000/327474 [============================>.] - ETA: 0s - loss: 0.2368 - acc: 0.8999Epoch 00015: val_acc did not improve\n",
      "327474/327474 [==============================] - 23s - loss: 0.2368 - acc: 0.8999 - val_loss: 0.4020 - val_acc: 0.8268\n",
      "Epoch 17/100\n",
      "327000/327474 [============================>.] - ETA: 0s - loss: 0.2301 - acc: 0.9029Epoch 00016: val_acc did not improve\n",
      "327474/327474 [==============================] - 25s - loss: 0.2302 - acc: 0.9029 - val_loss: 0.4018 - val_acc: 0.8293\n",
      "Epoch 18/100\n",
      "326500/327474 [============================>.] - ETA: 0s - loss: 0.2238 - acc: 0.9063Epoch 00017: val_acc did not improve\n",
      "327474/327474 [==============================] - 22s - loss: 0.2239 - acc: 0.9062 - val_loss: 0.4013 - val_acc: 0.8275\n",
      "Epoch 19/100\n",
      "326500/327474 [============================>.] - ETA: 0s - loss: 0.2170 - acc: 0.9097Epoch 00018: val_acc did not improve\n",
      "327474/327474 [==============================] - 21s - loss: 0.2171 - acc: 0.9097 - val_loss: 0.4130 - val_acc: 0.8297\n",
      "Epoch 20/100\n",
      "326500/327474 [============================>.] - ETA: 0s - loss: 0.2114 - acc: 0.9114Epoch 00019: val_acc did not improve\n",
      "327474/327474 [==============================] - 25s - loss: 0.2114 - acc: 0.9114 - val_loss: 0.4580 - val_acc: 0.8263\n",
      "Epoch 21/100\n",
      "327000/327474 [============================>.] - ETA: 0s - loss: 0.2077 - acc: 0.9133Epoch 00020: val_acc improved from 0.83021 to 0.83269, saving model to real_merge_2.h5\n",
      "327474/327474 [==============================] - 24s - loss: 0.2078 - acc: 0.9132 - val_loss: 0.4166 - val_acc: 0.8327\n",
      "Epoch 22/100\n",
      "327000/327474 [============================>.] - ETA: 0s - loss: 0.2019 - acc: 0.9166- ETA: 0s - loss: 0.2017 - acEpoch 00021: val_acc did not improve\n",
      "327474/327474 [==============================] - 23s - loss: 0.2018 - acc: 0.9166 - val_loss: 0.4351 - val_acc: 0.8323\n",
      "Epoch 23/100\n",
      "326500/327474 [============================>.] - ETA: 0s - loss: 0.1975 - acc: 0.9179Epoch 00022: val_acc did not improve\n",
      "327474/327474 [==============================] - 22s - loss: 0.1977 - acc: 0.9178 - val_loss: 0.4259 - val_acc: 0.8287\n",
      "Epoch 24/100\n",
      "327000/327474 [============================>.] - ETA: 0s - loss: 0.1939 - acc: 0.9196Epoch 00023: val_acc did not improve\n",
      "327474/327474 [==============================] - 25s - loss: 0.1939 - acc: 0.9196 - val_loss: 0.4263 - val_acc: 0.8318\n",
      "Epoch 25/100\n",
      "327000/327474 [============================>.] - ETA: 0s - loss: 0.1892 - acc: 0.9223Epoch 00024: val_acc improved from 0.83269 to 0.83285, saving model to real_merge_2.h5\n",
      "327474/327474 [==============================] - 23s - loss: 0.1892 - acc: 0.9223 - val_loss: 0.4450 - val_acc: 0.8329\n",
      "Epoch 26/100\n",
      "327000/327474 [============================>.] - ETA: 0s - loss: 0.1853 - acc: 0.9240Epoch 00025: val_acc did not improve\n",
      "327474/327474 [==============================] - 23s - loss: 0.1853 - acc: 0.9239 - val_loss: 0.4566 - val_acc: 0.8281\n",
      "Epoch 27/100\n",
      "326500/327474 [============================>.] - ETA: 0s - loss: 0.1824 - acc: 0.9250Epoch 00026: val_acc did not improve\n",
      "327474/327474 [==============================] - 24s - loss: 0.1824 - acc: 0.9250 - val_loss: 0.4680 - val_acc: 0.8304\n",
      "Epoch 28/100\n",
      "327000/327474 [============================>.] - ETA: 0s - loss: 0.1793 - acc: 0.9265Epoch 00027: val_acc did not improve\n",
      "327474/327474 [==============================] - 24s - loss: 0.1793 - acc: 0.9265 - val_loss: 0.4489 - val_acc: 0.8323\n",
      "Epoch 29/100\n",
      "327000/327474 [============================>.] - ETA: 0s - loss: 0.1756 - acc: 0.9284Epoch 00028: val_acc did not improve\n",
      "327474/327474 [==============================] - 25s - loss: 0.1756 - acc: 0.9284 - val_loss: 0.4590 - val_acc: 0.8287\n"
     ]
    },
    {
     "data": {
      "text/plain": [
       "<keras.callbacks.History at 0x7f7f47dc2450>"
      ]
     },
     "execution_count": 16,
     "metadata": {},
     "output_type": "execute_result"
    }
   ],
   "source": [
    "#fit the model on training set and validate on 10% out of bag samples shuffled every iteration\n",
    "model.fit([x1_train, x2_train], y=y_train, batch_size=500, epochs=100,\n",
    "verbose=1, validation_split=0.1, shuffle=True, callbacks=[checkpoint,estop])"
   ]
  },
  {
   "cell_type": "code",
   "execution_count": 10,
   "metadata": {},
   "outputs": [
    {
     "name": "stdout",
     "output_type": "stream",
     "text": [
      "F1 Score on train_set: 0.917320899191\n"
     ]
    }
   ],
   "source": [
    "# we can load our saved weights using load_weights function\n",
    "model.load_weights('real_merge_2.h5')\n",
    "\n",
    "# find the predictions using predict(). This will output only the probability\n",
    "preds  = model.predict([x1_train,x2_train])\n",
    "\n",
    "# we need to convert our predicted probabilies to binary classes(0,1), since F1 score doesnot support probabilities\n",
    "predicted_classes = np.zeros((preds.shape[0],1))\n",
    "for i in range(len(preds)):\n",
    "    if preds[i] >= 0.500:\n",
    "        predicted_classes[i]=1\n",
    "        \n",
    "        \n",
    "#using sklearn f1_score function to find the score        \n",
    "print('F1 Score on train_set: '+ str(f1_score(y_train,predicted_classes)))"
   ]
  },
  {
   "cell_type": "code",
   "execution_count": 12,
   "metadata": {},
   "outputs": [
    {
     "name": "stdout",
     "output_type": "stream",
     "text": [
      "F1 Score on test_set: 0.774578959803\n"
     ]
    }
   ],
   "source": [
    "# we can load our saved weights using load_weights function\n",
    "model.load_weights('real_merge_2.h5')\n",
    "\n",
    "\n",
    "# find the predictions using predict(). This will output only the probability\n",
    "preds  = model.predict([x1_test,x2_test])\n",
    "\n",
    "# we need to convert our predicted probabilies to binary classes(0,1), since F1 score doesnot support probabilities\n",
    "predicted_classes = np.zeros((preds.shape[0],1))\n",
    "for i in range(len(preds)):\n",
    "    if preds[i] >= 0.500:\n",
    "        predicted_classes[i]=1\n",
    "        \n",
    "        \n",
    "#using sklearn f1_score function to find the score        \n",
    "print('F1 Score on test_set: '+ str(f1_score(y_test,predicted_classes)))"
   ]
  },
  {
   "cell_type": "code",
   "execution_count": 11,
   "metadata": {},
   "outputs": [
    {
     "name": "stdout",
     "output_type": "stream",
     "text": [
      "40429/40429 [==============================] - 5s     \n"
     ]
    }
   ],
   "source": [
    "#evaluate() method automatically calculates the accuracy and logloss score\n",
    "score, acc = model.evaluate([x1_test,x2_test],y_test)"
   ]
  },
  {
   "cell_type": "code",
   "execution_count": 19,
   "metadata": {},
   "outputs": [
    {
     "name": "stdout",
     "output_type": "stream",
     "text": [
      "The Final Model Accuracy is: 0.83479680428\n"
     ]
    }
   ],
   "source": [
    "print'The Final Model Accuracy is: '+ str(acc)"
   ]
  },
  {
   "cell_type": "code",
   "execution_count": 24,
   "metadata": {},
   "outputs": [
    {
     "data": {
      "image/png": "[encoded data removed]",
      "text/plain": [
       "<matplotlib.figure.Figure at 0x7f7f26c42050>"
      ]
     },
     "metadata": {},
     "output_type": "display_data"
    },
    {
     "data": {
      "image/png": "[encoded data removed]",
      "text/plain": [
       "<matplotlib.figure.Figure at 0x7f7f4bc2a410>"
      ]
     },
     "metadata": {},
     "output_type": "display_data"
    }
   ],
   "source": [
    "# Plot accuracy\n",
    "plt.plot(model.history.history['acc'])\n",
    "plt.plot(model.history.history['val_acc'])\n",
    "plt.title('Model Accuracy')\n",
    "plt.ylabel('Accuracy')\n",
    "plt.xlabel('Epoch')\n",
    "plt.legend(['Train', 'Validation'], loc='upper left')\n",
    "plt.show()\n",
    "\n",
    "# Plot loss\n",
    "plt.plot(model.history.history['loss'])\n",
    "plt.plot(model.history.history['val_loss'])\n",
    "plt.title('Model Loss')\n",
    "plt.ylabel('Loss')\n",
    "plt.xlabel('Epoch')\n",
    "plt.legend(['Train', 'Validation'], loc='upper right')\n",
    "plt.show()"
   ]
  },
  {
   "cell_type": "code",
   "execution_count": null,
   "metadata": {
    "collapsed": true
   },
   "outputs": [],
   "source": []
  }
 ],
 "metadata": {
  "kernelspec": {
   "display_name": "Python 2",
   "language": "python",
   "name": "python2"
  },
  "language_info": {
   "codemirror_mode": {
    "name": "ipython",
    "version": 2
   },
   "file_extension": ".py",
   "mimetype": "text/x-python",
   "name": "python",
   "nbconvert_exporter": "python",
   "pygments_lexer": "ipython2",
   "version": "2.7.13"
  }
 },
 "nbformat": 4,
 "nbformat_minor": 2
}
