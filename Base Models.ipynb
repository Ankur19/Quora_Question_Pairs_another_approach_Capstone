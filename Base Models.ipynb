{
 "cells": [
  {
   "cell_type": "code",
   "execution_count": 1,
   "metadata": {},
   "outputs": [
    {
     "name": "stderr",
     "output_type": "stream",
     "text": [
      "Using TensorFlow backend.\n"
     ]
    }
   ],
   "source": [
    "# import dependencies\n",
    "from __future__ import division \n",
    "import numpy as np\n",
    "import pandas as pd\n",
    "import gc\n",
    "import pickle\n",
    "import re\n",
    "from tqdm import tqdm\n",
    "from sklearn.model_selection import train_test_split\n",
    "from keras.models import Sequential\n",
    "from keras.layers.core import Dense, Activation, Dropout\n",
    "from keras.layers.embeddings import Embedding\n",
    "from keras.layers.recurrent import LSTM, GRU\n",
    "from keras.layers.normalization import BatchNormalization\n",
    "from keras.utils import np_utils\n",
    "from keras.layers import Merge, TimeDistributed, Lambda, Conv1D, GlobalMaxPooling1D, GlobalAveragePooling1D, MaxPooling1D\n",
    "\n",
    "from keras.callbacks import ModelCheckpoint, EarlyStopping\n",
    "from keras import backend as K\n",
    "from keras.layers.advanced_activations import PReLU\n",
    "from keras.preprocessing import sequence, text\n",
    "\n",
    "from keras.layers import Input, Bidirectional, LSTM, dot, Flatten, Dense, Reshape, add, Dropout, BatchNormalization, concatenate\n",
    "from keras.models import Model\n",
    "\n",
    "import matplotlib\n",
    "%matplotlib inline\n",
    "\n",
    "import matplotlib.pyplot as plt"
   ]
  },
  {
   "cell_type": "code",
   "execution_count": 2,
   "metadata": {
    "collapsed": true
   },
   "outputs": [],
   "source": [
    "# read the dataframe\n",
    "df = pd.read_csv('quora_duplicate_questions.tsv', sep='\\t')"
   ]
  },
  {
   "cell_type": "code",
   "execution_count": 3,
   "metadata": {},
   "outputs": [
    {
     "data": {
      "text/plain": [
       "(404290, 6)"
      ]
     },
     "execution_count": 3,
     "metadata": {},
     "output_type": "execute_result"
    }
   ],
   "source": [
    "# the data has 404290 rows and 6 columns\n",
    "df.shape"
   ]
  },
  {
   "cell_type": "code",
   "execution_count": 4,
   "metadata": {},
   "outputs": [
    {
     "data": {
      "text/html": [
       "<div>\n",
       "<style>\n",
       "    .dataframe thead tr:only-child th {\n",
       "        text-align: right;\n",
       "    }\n",
       "\n",
       "    .dataframe thead th {\n",
       "        text-align: left;\n",
       "    }\n",
       "\n",
       "    .dataframe tbody tr th {\n",
       "        vertical-align: top;\n",
       "    }\n",
       "</style>\n",
       "<table border=\"1\" class=\"dataframe\">\n",
       "  <thead>\n",
       "    <tr style=\"text-align: right;\">\n",
       "      <th></th>\n",
       "      <th>id</th>\n",
       "      <th>qid1</th>\n",
       "      <th>qid2</th>\n",
       "      <th>question1</th>\n",
       "      <th>question2</th>\n",
       "      <th>is_duplicate</th>\n",
       "    </tr>\n",
       "  </thead>\n",
       "  <tbody>\n",
       "    <tr>\n",
       "      <th>0</th>\n",
       "      <td>0</td>\n",
       "      <td>1</td>\n",
       "      <td>2</td>\n",
       "      <td>What is the step by step guide to invest in sh...</td>\n",
       "      <td>What is the step by step guide to invest in sh...</td>\n",
       "      <td>0</td>\n",
       "    </tr>\n",
       "    <tr>\n",
       "      <th>1</th>\n",
       "      <td>1</td>\n",
       "      <td>3</td>\n",
       "      <td>4</td>\n",
       "      <td>What is the story of Kohinoor (Koh-i-Noor) Dia...</td>\n",
       "      <td>What would happen if the Indian government sto...</td>\n",
       "      <td>0</td>\n",
       "    </tr>\n",
       "    <tr>\n",
       "      <th>2</th>\n",
       "      <td>2</td>\n",
       "      <td>5</td>\n",
       "      <td>6</td>\n",
       "      <td>How can I increase the speed of my internet co...</td>\n",
       "      <td>How can Internet speed be increased by hacking...</td>\n",
       "      <td>0</td>\n",
       "    </tr>\n",
       "    <tr>\n",
       "      <th>3</th>\n",
       "      <td>3</td>\n",
       "      <td>7</td>\n",
       "      <td>8</td>\n",
       "      <td>Why am I mentally very lonely? How can I solve...</td>\n",
       "      <td>Find the remainder when [math]23^{24}[/math] i...</td>\n",
       "      <td>0</td>\n",
       "    </tr>\n",
       "    <tr>\n",
       "      <th>4</th>\n",
       "      <td>4</td>\n",
       "      <td>9</td>\n",
       "      <td>10</td>\n",
       "      <td>Which one dissolve in water quikly sugar, salt...</td>\n",
       "      <td>Which fish would survive in salt water?</td>\n",
       "      <td>0</td>\n",
       "    </tr>\n",
       "  </tbody>\n",
       "</table>\n",
       "</div>"
      ],
      "text/plain": [
       "   id  qid1  qid2                                          question1  \\\n",
       "0   0     1     2  What is the step by step guide to invest in sh...   \n",
       "1   1     3     4  What is the story of Kohinoor (Koh-i-Noor) Dia...   \n",
       "2   2     5     6  How can I increase the speed of my internet co...   \n",
       "3   3     7     8  Why am I mentally very lonely? How can I solve...   \n",
       "4   4     9    10  Which one dissolve in water quikly sugar, salt...   \n",
       "\n",
       "                                           question2  is_duplicate  \n",
       "0  What is the step by step guide to invest in sh...             0  \n",
       "1  What would happen if the Indian government sto...             0  \n",
       "2  How can Internet speed be increased by hacking...             0  \n",
       "3  Find the remainder when [math]23^{24}[/math] i...             0  \n",
       "4            Which fish would survive in salt water?             0  "
      ]
     },
     "execution_count": 4,
     "metadata": {},
     "output_type": "execute_result"
    }
   ],
   "source": [
    "df.head()"
   ]
  },
  {
   "cell_type": "code",
   "execution_count": 5,
   "metadata": {},
   "outputs": [
    {
     "data": {
      "text/plain": [
       "0    255027\n",
       "1    149263\n",
       "Name: is_duplicate, dtype: int64"
      ]
     },
     "execution_count": 5,
     "metadata": {},
     "output_type": "execute_result"
    }
   ],
   "source": [
    "# count the positive and negative data\n",
    "df.is_duplicate.value_counts()"
   ]
  },
  {
   "cell_type": "code",
   "execution_count": 6,
   "metadata": {
    "collapsed": true
   },
   "outputs": [],
   "source": [
    "# drop unnecessary columns\n",
    "df.drop(['id','qid1','qid2'], axis=1, inplace=True)"
   ]
  },
  {
   "cell_type": "code",
   "execution_count": 7,
   "metadata": {
    "collapsed": true
   },
   "outputs": [],
   "source": [
    "# function to clean text\n",
    "\n",
    "def clean_text(text):\n",
    "    ''' Pre process and convert texts to a list of words '''\n",
    "    text = str(text)\n",
    "    text = text.lower()\n",
    "\n",
    "    # Clean the text\n",
    "    text = re.sub(r\"[^A-Za-z0-9^,!.\\/'+-=]\", \" \", text)\n",
    "    text = re.sub(r\"what's\", \"what is\", text)\n",
    "    text = re.sub(r\"\\'s\", \" \", text)\n",
    "    text = re.sub(r\"\\'ve\", \" have\", text)\n",
    "    text = re.sub(r\"can't\", \"can not\", text)\n",
    "    text = re.sub(r\"n't\", \"not\", text)\n",
    "    text = re.sub(r\"i'm\", \"i am\", text)\n",
    "    text = re.sub(r\"\\'re\", \" are\", text)\n",
    "    text = re.sub(r\"\\'d\", \" would\", text)\n",
    "    text = re.sub(r\"\\'ll\", \" will\", text)\n",
    "    text = re.sub(r\"\\/\", \" / \", text)\n",
    "    text = re.sub(r\"\\^\", \" ^ \", text)\n",
    "    text = re.sub(r\"(\\d+)(k)\", r\"\\g<1>000\", text)\n",
    "    text = re.sub(r\":\", \" : \", text)\n",
    "    text = re.sub(r\" e g \", \" eg \", text)\n",
    "    text = re.sub(r\" b g \", \" bg \", text)\n",
    "    text = re.sub(r\" u s \", \" america \", text)\n",
    "    text = re.sub(r\"\\0s\", \" 0 \", text)\n",
    "    text = re.sub(r\" 9 11 \", \" 911 \", text)\n",
    "    text = re.sub(r\"e - mail\", \"email\", text)\n",
    "    text = re.sub(r\" j k \", \" jk \", text)\n",
    "    text = re.sub(r\"\\s{2,}\", \" \", text)\n",
    "    return text"
   ]
  },
  {
   "cell_type": "code",
   "execution_count": 8,
   "metadata": {},
   "outputs": [
    {
     "name": "stderr",
     "output_type": "stream",
     "text": [
      "100%|██████████| 404290/404290 [00:48<00:00, 8342.66it/s] \n"
     ]
    }
   ],
   "source": [
    "#Preprocess the data by cleaning the text\n",
    "sents = []\n",
    "for i in tqdm(range(len(df.question1))):\n",
    "    sents.append(clean_text(df.question1[i]))\n",
    "df['question1']  = sents"
   ]
  },
  {
   "cell_type": "code",
   "execution_count": 9,
   "metadata": {},
   "outputs": [
    {
     "name": "stderr",
     "output_type": "stream",
     "text": [
      "100%|██████████| 404290/404290 [01:00<00:00, 6636.49it/s]\n"
     ]
    }
   ],
   "source": [
    "sents = []\n",
    "for i in tqdm(range(len(df.question2))):\n",
    "    sents.append(clean_text(df.question2[i]))\n",
    "df['question2']  = sents"
   ]
  },
  {
   "cell_type": "code",
   "execution_count": 10,
   "metadata": {},
   "outputs": [
    {
     "data": {
      "text/html": [
       "<div>\n",
       "<style>\n",
       "    .dataframe thead tr:only-child th {\n",
       "        text-align: right;\n",
       "    }\n",
       "\n",
       "    .dataframe thead th {\n",
       "        text-align: left;\n",
       "    }\n",
       "\n",
       "    .dataframe tbody tr th {\n",
       "        vertical-align: top;\n",
       "    }\n",
       "</style>\n",
       "<table border=\"1\" class=\"dataframe\">\n",
       "  <thead>\n",
       "    <tr style=\"text-align: right;\">\n",
       "      <th></th>\n",
       "      <th>question1</th>\n",
       "      <th>question2</th>\n",
       "      <th>is_duplicate</th>\n",
       "    </tr>\n",
       "  </thead>\n",
       "  <tbody>\n",
       "    <tr>\n",
       "      <th>0</th>\n",
       "      <td>what is the step by step guide to invest in sh...</td>\n",
       "      <td>what is the step by step guide to invest in sh...</td>\n",
       "      <td>0</td>\n",
       "    </tr>\n",
       "    <tr>\n",
       "      <th>1</th>\n",
       "      <td>what is the story of kohinoor koh-i-noor diamond</td>\n",
       "      <td>what would happen if the indian government sto...</td>\n",
       "      <td>0</td>\n",
       "    </tr>\n",
       "    <tr>\n",
       "      <th>2</th>\n",
       "      <td>how can i increase the speed of my internet co...</td>\n",
       "      <td>how can internet speed be increased by hacking...</td>\n",
       "      <td>0</td>\n",
       "    </tr>\n",
       "    <tr>\n",
       "      <th>3</th>\n",
       "      <td>why am i mentally very lonely how can i solve it</td>\n",
       "      <td>find the remainder when math 23 ^ 24 / math is...</td>\n",
       "      <td>0</td>\n",
       "    </tr>\n",
       "    <tr>\n",
       "      <th>4</th>\n",
       "      <td>which one dissolve in water quikly sugar, salt...</td>\n",
       "      <td>which fish would survive in salt water</td>\n",
       "      <td>0</td>\n",
       "    </tr>\n",
       "  </tbody>\n",
       "</table>\n",
       "</div>"
      ],
      "text/plain": [
       "                                           question1  \\\n",
       "0  what is the step by step guide to invest in sh...   \n",
       "1  what is the story of kohinoor koh-i-noor diamond    \n",
       "2  how can i increase the speed of my internet co...   \n",
       "3  why am i mentally very lonely how can i solve it    \n",
       "4  which one dissolve in water quikly sugar, salt...   \n",
       "\n",
       "                                           question2  is_duplicate  \n",
       "0  what is the step by step guide to invest in sh...             0  \n",
       "1  what would happen if the indian government sto...             0  \n",
       "2  how can internet speed be increased by hacking...             0  \n",
       "3  find the remainder when math 23 ^ 24 / math is...             0  \n",
       "4            which fish would survive in salt water              0  "
      ]
     },
     "execution_count": 10,
     "metadata": {},
     "output_type": "execute_result"
    }
   ],
   "source": [
    "df.head()"
   ]
  },
  {
   "cell_type": "code",
   "execution_count": 11,
   "metadata": {
    "collapsed": true
   },
   "outputs": [],
   "source": [
    "#saving the cleaned data as a pickle file so that it can be reused\n",
    "import pickle\n",
    "with open ('question_pair.pickle', 'wb') as f:\n",
    "    pickle.dump(df, f)"
   ]
  },
  {
   "cell_type": "code",
   "execution_count": 2,
   "metadata": {
    "collapsed": true
   },
   "outputs": [],
   "source": [
    "import pickle\n",
    "with open('question_pair.pickle', 'rb') as f:\n",
    "    df = pickle.load(f)"
   ]
  },
  {
   "cell_type": "code",
   "execution_count": 5,
   "metadata": {
    "collapsed": true
   },
   "outputs": [],
   "source": [
    "# count the number of words present per question\n",
    "df['q1_count'] = [len(i.split()) for i in df.question1]\n",
    "df['q2_count'] = [len(i.split()) for i in df.question2]"
   ]
  },
  {
   "cell_type": "code",
   "execution_count": 10,
   "metadata": {},
   "outputs": [
    {
     "data": {
      "image/png": "[encoded data removed]",
      "text/plain": [
       "<matplotlib.figure.Figure at 0x7f1d787a2650>"
      ]
     },
     "metadata": {},
     "output_type": "display_data"
    }
   ],
   "source": [
    "# visualize the number of words present so as to select the max length for the vectors\n",
    "plt.figure(figsize=(10,8))\n",
    "plt.hist(df['q1_count'], bins=60)\n",
    "plt.xlabel('question 1 words count')\n",
    "plt.show()"
   ]
  },
  {
   "cell_type": "code",
   "execution_count": 11,
   "metadata": {},
   "outputs": [
    {
     "data": {
      "image/png": "[encoded data removed]",
      "text/plain": [
       "<matplotlib.figure.Figure at 0x7f1d77e44890>"
      ]
     },
     "metadata": {},
     "output_type": "display_data"
    }
   ],
   "source": [
    "plt.figure(figsize=(10,8))\n",
    "plt.hist(df['q2_count'], bins=60)\n",
    "plt.xlabel('question 2 words count')\n",
    "plt.show()"
   ]
  },
  {
   "cell_type": "code",
   "execution_count": 12,
   "metadata": {},
   "outputs": [
    {
     "data": {
      "text/plain": [
       "129"
      ]
     },
     "execution_count": 12,
     "metadata": {},
     "output_type": "execute_result"
    }
   ],
   "source": [
    "df.q1_count.max()"
   ]
  },
  {
   "cell_type": "code",
   "execution_count": 13,
   "metadata": {},
   "outputs": [
    {
     "data": {
      "text/plain": [
       "242"
      ]
     },
     "execution_count": 13,
     "metadata": {},
     "output_type": "execute_result"
    }
   ],
   "source": [
    "df.q2_count.max()"
   ]
  },
  {
   "cell_type": "code",
   "execution_count": 14,
   "metadata": {
    "collapsed": true
   },
   "outputs": [],
   "source": [
    "# considering the visualizations above max_len of 30 should be sufficient for the vectors"
   ]
  },
  {
   "cell_type": "code",
   "execution_count": 3,
   "metadata": {
    "collapsed": true
   },
   "outputs": [],
   "source": [
    "tk = text.Tokenizer(num_words=200000)\n",
    "# we use keras Tokenizer to tokenizer the data. \n",
    "# we will only consider top 200000 words that occur in the dataset\n",
    "\n",
    "max_len = 30\n",
    "# the maximum length of each sequence\n",
    "\n",
    "tk.fit_on_texts(list(df.question1.values.astype(str)) + list(df.question2.values.astype(str)))\n",
    "\n",
    "#we now convert the text to numerical data\n",
    "x1 = tk.texts_to_sequences(df.question1.values.astype(str))\n",
    "x2 = tk.texts_to_sequences(df.question2.values.astype(str))\n",
    "\n",
    "# we pad the sequences so that all questions are of the same length(30)\n",
    "x1 = sequence.pad_sequences(x1, maxlen=max_len)\n",
    "x2 = sequence.pad_sequences(x2, maxlen=max_len)\n",
    "\n",
    "\n",
    "word_index = tk.word_index"
   ]
  },
  {
   "cell_type": "code",
   "execution_count": 4,
   "metadata": {},
   "outputs": [
    {
     "name": "stdout",
     "output_type": "stream",
     "text": [
      "(404290, 30)\n",
      "(404290, 30)\n"
     ]
    }
   ],
   "source": [
    "#x1 and x2 denote the questions that were converted to sequences which can be fed to machine learning algorithms\n",
    "print(x1.shape)\n",
    "print(x2.shape)"
   ]
  },
  {
   "cell_type": "code",
   "execution_count": 5,
   "metadata": {
    "collapsed": true
   },
   "outputs": [],
   "source": [
    "# y is our target variable\n",
    "y = df.is_duplicate.values"
   ]
  },
  {
   "cell_type": "code",
   "execution_count": 6,
   "metadata": {},
   "outputs": [
    {
     "data": {
      "text/plain": [
       "(404290,)"
      ]
     },
     "execution_count": 6,
     "metadata": {},
     "output_type": "execute_result"
    }
   ],
   "source": [
    "y.shape"
   ]
  },
  {
   "cell_type": "code",
   "execution_count": 7,
   "metadata": {
    "collapsed": true
   },
   "outputs": [],
   "source": [
    "#we split our data to train and test sets\n",
    "\n",
    "from sklearn.model_selection import train_test_split\n",
    "\n",
    "x1_train, x1_test, x2_train, x2_test, y_train, y_test = train_test_split(x1,x2,y, test_size = 0.1,random_state=2017)"
   ]
  },
  {
   "cell_type": "code",
   "execution_count": 31,
   "metadata": {
    "scrolled": true
   },
   "outputs": [
    {
     "name": "stderr",
     "output_type": "stream",
     "text": [
      "2196017it [01:59, 18435.60it/s]"
     ]
    },
    {
     "name": "stdout",
     "output_type": "stream",
     "text": [
      "Found 2196016 word vectors.\n"
     ]
    },
    {
     "name": "stderr",
     "output_type": "stream",
     "text": [
      "\n"
     ]
    }
   ],
   "source": [
    "# we create a dictionary of the words that have pretrained weights\n",
    "\n",
    "embeddings_index = {}\n",
    "f = open('glove.840B.300d.txt')\n",
    "for line in tqdm(f):\n",
    "    values = line.split()\n",
    "    word = values[0]\n",
    "    coefs = np.asarray(values[1:])\n",
    "    embeddings_index[word] = coefs\n",
    "f.close()\n",
    "\n",
    "print('Found %s word vectors.' % len(embeddings_index))"
   ]
  },
  {
   "cell_type": "code",
   "execution_count": 32,
   "metadata": {},
   "outputs": [
    {
     "name": "stderr",
     "output_type": "stream",
     "text": [
      "100%|██████████| 88367/88367 [00:18<00:00, 4658.75it/s]\n"
     ]
    }
   ],
   "source": [
    "# we now create a matrix of weights for the words present n our dataset\n",
    "\n",
    "\n",
    "embedding_matrix = np.zeros((len(word_index) + 1, 300))\n",
    "for word, i in tqdm(word_index.items()):\n",
    "    embedding_vector = embeddings_index.get(word)\n",
    "    if embedding_vector is not None:\n",
    "        embedding_matrix[i] = embedding_vector"
   ]
  },
  {
   "cell_type": "code",
   "execution_count": 6,
   "metadata": {},
   "outputs": [
    {
     "data": {
      "text/plain": [
       "7"
      ]
     },
     "execution_count": 6,
     "metadata": {},
     "output_type": "execute_result"
    }
   ],
   "source": [
    "# free some ram\n",
    "#embeddings_index = 0\n",
    "df=0\n",
    "x1=0\n",
    "x2=0\n",
    "\n",
    "gc.collect()"
   ]
  },
  {
   "cell_type": "code",
   "execution_count": 34,
   "metadata": {
    "collapsed": true
   },
   "outputs": [],
   "source": [
    "# sav the weight matrix for reuse\n",
    "np.savetxt('embeddings.txt',embedding_matrix)"
   ]
  },
  {
   "cell_type": "code",
   "execution_count": 8,
   "metadata": {
    "collapsed": true
   },
   "outputs": [],
   "source": [
    "embedding_matrix = np.loadtxt('embeddings.txt')"
   ]
  },
  {
   "cell_type": "code",
   "execution_count": 12,
   "metadata": {},
   "outputs": [
    {
     "data": {
      "text/plain": [
       "(88368, 300)"
      ]
     },
     "execution_count": 12,
     "metadata": {},
     "output_type": "execute_result"
    }
   ],
   "source": [
    "embedding_matrix.shape"
   ]
  },
  {
   "cell_type": "code",
   "execution_count": 29,
   "metadata": {
    "scrolled": true
   },
   "outputs": [
    {
     "name": "stdout",
     "output_type": "stream",
     "text": [
      "Base Model 1\n",
      "Build Model...\n",
      "____________________________________________________________________________________________________\n",
      "Layer (type)                     Output Shape          Param #     Connected to                     \n",
      "====================================================================================================\n",
      "input_5 (InputLayer)             (None, 30)            0                                            \n",
      "____________________________________________________________________________________________________\n",
      "input_6 (InputLayer)             (None, 30)            0                                            \n",
      "____________________________________________________________________________________________________\n",
      "embedding_2 (Embedding)          (None, 30, 300)       26510400    input_5[0][0]                    \n",
      "____________________________________________________________________________________________________\n",
      "embedding_3 (Embedding)          (None, 30, 300)       26510400    input_6[0][0]                    \n",
      "____________________________________________________________________________________________________\n",
      "time_distributed_1 (TimeDistribu (None, 30, 300)       90300       embedding_2[0][0]                \n",
      "____________________________________________________________________________________________________\n",
      "time_distributed_2 (TimeDistribu (None, 30, 300)       90300       embedding_3[0][0]                \n",
      "____________________________________________________________________________________________________\n",
      "lambda_1 (Lambda)                (None, 300)           0           time_distributed_1[0][0]         \n",
      "____________________________________________________________________________________________________\n",
      "lambda_2 (Lambda)                (None, 300)           0           time_distributed_2[0][0]         \n",
      "____________________________________________________________________________________________________\n",
      "add_1 (Add)                      (None, 300)           0           lambda_1[0][0]                   \n",
      "                                                                   lambda_2[0][0]                   \n",
      "____________________________________________________________________________________________________\n",
      "dense_3 (Dense)                  (None, 300)           90300       add_1[0][0]                      \n",
      "____________________________________________________________________________________________________\n",
      "dropout_1 (Dropout)              (None, 300)           0           dense_3[0][0]                    \n",
      "____________________________________________________________________________________________________\n",
      "batch_normalization_1 (BatchNorm (None, 300)           1200        dropout_1[0][0]                  \n",
      "____________________________________________________________________________________________________\n",
      "dense_4 (Dense)                  (None, 300)           90300       batch_normalization_1[0][0]      \n",
      "____________________________________________________________________________________________________\n",
      "dropout_2 (Dropout)              (None, 300)           0           dense_4[0][0]                    \n",
      "____________________________________________________________________________________________________\n",
      "batch_normalization_2 (BatchNorm (None, 300)           1200        dropout_2[0][0]                  \n",
      "____________________________________________________________________________________________________\n",
      "dense_5 (Dense)                  (None, 1)             301         batch_normalization_2[0][0]      \n",
      "====================================================================================================\n",
      "Total params: 53,384,701\n",
      "Trainable params: 362,701\n",
      "Non-trainable params: 53,022,000\n",
      "____________________________________________________________________________________________________\n"
     ]
    }
   ],
   "source": [
    "print('Base Model 1')\n",
    "print('Build Model...')\n",
    "\n",
    "ques1 = Input(shape=(30,))\n",
    "ques2 = Input(shape=(30,))\n",
    "q1 = Embedding(len(word_index) + 1, \n",
    "                 300, \n",
    "                 weights=[embedding_matrix], \n",
    "                 input_length=30, \n",
    "                 trainable=False)(ques1)\n",
    "\n",
    "q1 = TimeDistributed(Dense(300, activation='relu'))(q1)\n",
    "q1 = Lambda(lambda x: K.sum(x, axis=1), output_shape=(300,))(q1)\n",
    "\n",
    "\n",
    "q2 = Embedding(len(word_index) + 1, \n",
    "                 300, \n",
    "                 weights=[embedding_matrix], \n",
    "                 input_length=30, \n",
    "                 trainable=False)(ques2)\n",
    "\n",
    "q2 = TimeDistributed(Dense(300, activation='relu'))(q2)\n",
    "q2 = Lambda(lambda x: K.sum(x, axis=1), output_shape=(300,))(q2)\n",
    "\n",
    "\n",
    "merged = add([q1,q2])\n",
    "merged = Dense(300, activation='relu')(merged)\n",
    "merged = Dropout(0.2)(merged)\n",
    "merged = BatchNormalization()(merged)\n",
    "merged = Dense(300, activation='relu')(merged)\n",
    "merged = Dropout(0.2)(merged)\n",
    "merged = BatchNormalization()(merged)\n",
    "merged = Dense(1, activation='sigmoid')(merged)\n",
    "\n",
    "model = Model(inputs=[ques1,ques2], outputs=merged)\n",
    "\n",
    "checkpoint = ModelCheckpoint('base 1.h5', monitor='val_acc', save_best_only=True, verbose=2)\n",
    "\n",
    "estop = EarlyStopping(monitor='val_loss', min_delta=0.0001, patience=20, verbose=0, mode='auto')\n",
    "\n",
    "\n",
    "model.compile(loss='binary_crossentropy', optimizer='adam', metrics=['accuracy'])\n",
    "model.summary()"
   ]
  },
  {
   "cell_type": "code",
   "execution_count": 30,
   "metadata": {
    "scrolled": true
   },
   "outputs": [
    {
     "name": "stdout",
     "output_type": "stream",
     "text": [
      "Train on 327474 samples, validate on 36387 samples\n",
      "Epoch 1/100\n",
      "326000/327474 [============================>.] - ETA: 0s - loss: 0.5494 - acc: 0.7167Epoch 00000: val_acc improved from -inf to 0.74491, saving model to base 1.h5\n",
      "327474/327474 [==============================] - 13s - loss: 0.5491 - acc: 0.7168 - val_loss: 0.5052 - val_acc: 0.7449\n",
      "Epoch 2/100\n",
      "327000/327474 [============================>.] - ETA: 0s - loss: 0.4782 - acc: 0.7614Epoch 00001: val_acc improved from 0.74491 to 0.76959, saving model to base 1.h5\n",
      "327474/327474 [==============================] - 12s - loss: 0.4781 - acc: 0.7614 - val_loss: 0.4644 - val_acc: 0.7696\n",
      "Epoch 3/100\n",
      "326000/327474 [============================>.] - ETA: 0s - loss: 0.4484 - acc: 0.7802Epoch 00002: val_acc improved from 0.76959 to 0.77731, saving model to base 1.h5\n",
      "327474/327474 [==============================] - 12s - loss: 0.4485 - acc: 0.7802 - val_loss: 0.4560 - val_acc: 0.7773\n",
      "Epoch 4/100\n",
      "326000/327474 [============================>.] - ETA: 0s - loss: 0.4286 - acc: 0.7935Epoch 00003: val_acc improved from 0.77731 to 0.78718, saving model to base 1.h5\n",
      "327474/327474 [==============================] - 12s - loss: 0.4285 - acc: 0.7936 - val_loss: 0.4363 - val_acc: 0.7872\n",
      "Epoch 5/100\n",
      "326000/327474 [============================>.] - ETA: 0s - loss: 0.4125 - acc: 0.8021Epoch 00004: val_acc improved from 0.78718 to 0.79091, saving model to base 1.h5\n",
      "327474/327474 [==============================] - 13s - loss: 0.4125 - acc: 0.8021 - val_loss: 0.4316 - val_acc: 0.7909\n",
      "Epoch 6/100\n",
      "326500/327474 [============================>.] - ETA: 0s - loss: 0.3981 - acc: 0.8123Epoch 00005: val_acc improved from 0.79091 to 0.79603, saving model to base 1.h5\n",
      "327474/327474 [==============================] - 13s - loss: 0.3981 - acc: 0.8123 - val_loss: 0.4229 - val_acc: 0.7960\n",
      "Epoch 7/100\n",
      "326000/327474 [============================>.] - ETA: 0s - loss: 0.3859 - acc: 0.8190Epoch 00006: val_acc did not improve\n",
      "327474/327474 [==============================] - 13s - loss: 0.3859 - acc: 0.8190 - val_loss: 0.4265 - val_acc: 0.7942\n",
      "Epoch 8/100\n",
      "326000/327474 [============================>.] - ETA: 0s - loss: 0.3741 - acc: 0.8251- ETA: 0s - loss: 0.3737 Epoch 00007: val_acc improved from 0.79603 to 0.79924, saving model to base 1.h5\n",
      "327474/327474 [==============================] - 14s - loss: 0.3741 - acc: 0.8251 - val_loss: 0.4218 - val_acc: 0.7992\n",
      "Epoch 9/100\n",
      "326000/327474 [============================>.] - ETA: 0s - loss: 0.3637 - acc: 0.8316Epoch 00008: val_acc improved from 0.79924 to 0.80372, saving model to base 1.h5\n",
      "327474/327474 [==============================] - 14s - loss: 0.3637 - acc: 0.8316 - val_loss: 0.4145 - val_acc: 0.8037\n",
      "Epoch 10/100\n",
      "326000/327474 [============================>.] - ETA: 0s - loss: 0.3533 - acc: 0.8381Epoch 00009: val_acc did not improve\n",
      "327474/327474 [==============================] - 13s - loss: 0.3534 - acc: 0.8381 - val_loss: 0.4199 - val_acc: 0.8024\n",
      "Epoch 11/100\n",
      "327000/327474 [============================>.] - ETA: 0s - loss: 0.3445 - acc: 0.8435Epoch 00010: val_acc did not improve\n",
      "327474/327474 [==============================] - 13s - loss: 0.3445 - acc: 0.8435 - val_loss: 0.4260 - val_acc: 0.8020\n",
      "Epoch 12/100\n",
      "326000/327474 [============================>.] - ETA: 0s - loss: 0.3378 - acc: 0.8468Epoch 00011: val_acc improved from 0.80372 to 0.80614, saving model to base 1.h5\n",
      "327474/327474 [==============================] - 14s - loss: 0.3378 - acc: 0.8468 - val_loss: 0.4122 - val_acc: 0.8061\n",
      "Epoch 13/100\n",
      "326000/327474 [============================>.] - ETA: 0s - loss: 0.3292 - acc: 0.8515Epoch 00012: val_acc improved from 0.80614 to 0.80817, saving model to base 1.h5\n",
      "327474/327474 [==============================] - 17s - loss: 0.3291 - acc: 0.8516 - val_loss: 0.4119 - val_acc: 0.8082\n",
      "Epoch 14/100\n",
      "327000/327474 [============================>.] - ETA: 0s - loss: 0.3218 - acc: 0.8550Epoch 00013: val_acc improved from 0.80817 to 0.80963, saving model to base 1.h5\n",
      "327474/327474 [==============================] - 14s - loss: 0.3218 - acc: 0.8550 - val_loss: 0.4105 - val_acc: 0.8096\n",
      "Epoch 15/100\n",
      "327000/327474 [============================>.] - ETA: 0s - loss: 0.3145 - acc: 0.8597Epoch 00014: val_acc improved from 0.80963 to 0.81015, saving model to base 1.h5\n",
      "327474/327474 [==============================] - 16s - loss: 0.3145 - acc: 0.8597 - val_loss: 0.4121 - val_acc: 0.8102\n",
      "Epoch 16/100\n",
      "326000/327474 [============================>.] - ETA: 0s - loss: 0.3074 - acc: 0.8637Epoch 00015: val_acc did not improve\n",
      "327474/327474 [==============================] - 14s - loss: 0.3075 - acc: 0.8637 - val_loss: 0.4219 - val_acc: 0.8100\n",
      "Epoch 17/100\n",
      "327000/327474 [============================>.] - ETA: 0s - loss: 0.3010 - acc: 0.8662Epoch 00016: val_acc did not improve\n",
      "327474/327474 [==============================] - 13s - loss: 0.3010 - acc: 0.8662 - val_loss: 0.4236 - val_acc: 0.8070\n",
      "Epoch 18/100\n",
      "327000/327474 [============================>.] - ETA: 0s - loss: 0.2958 - acc: 0.8695- ETEpoch 00017: val_acc did not improve\n",
      "327474/327474 [==============================] - 16s - loss: 0.2958 - acc: 0.8695 - val_loss: 0.4126 - val_acc: 0.8098\n",
      "Epoch 19/100\n",
      "326500/327474 [============================>.] - ETA: 0s - loss: 0.2899 - acc: 0.8728Epoch 00018: val_acc improved from 0.81015 to 0.81098, saving model to base 1.h5\n",
      "327474/327474 [==============================] - 18s - loss: 0.2899 - acc: 0.8728 - val_loss: 0.4133 - val_acc: 0.8110\n",
      "Epoch 20/100\n",
      "327000/327474 [============================>.] - ETA: 0s - loss: 0.2845 - acc: 0.8753Epoch 00019: val_acc did not improve\n",
      "327474/327474 [==============================] - 14s - loss: 0.2845 - acc: 0.8753 - val_loss: 0.4231 - val_acc: 0.8108\n",
      "Epoch 21/100\n",
      "326000/327474 [============================>.] - ETA: 0s - loss: 0.2797 - acc: 0.8775Epoch 00020: val_acc did not improve\n",
      "327474/327474 [==============================] - 16s - loss: 0.2798 - acc: 0.8775 - val_loss: 0.4248 - val_acc: 0.8098\n",
      "Epoch 22/100\n",
      "327000/327474 [============================>.] - ETA: 0s - loss: 0.2751 - acc: 0.8795Epoch 00021: val_acc did not improve\n",
      "327474/327474 [==============================] - 14s - loss: 0.2751 - acc: 0.8796 - val_loss: 0.4235 - val_acc: 0.8094\n",
      "Epoch 23/100\n",
      "326500/327474 [============================>.] - ETA: 0s - loss: 0.2708 - acc: 0.8814Epoch 00022: val_acc improved from 0.81098 to 0.81177, saving model to base 1.h5\n",
      "327474/327474 [==============================] - 16s - loss: 0.2709 - acc: 0.8813 - val_loss: 0.4264 - val_acc: 0.8118\n",
      "Epoch 24/100\n",
      "326500/327474 [============================>.] - ETA: 0s - loss: 0.2657 - acc: 0.8849Epoch 00023: val_acc did not improve\n",
      "327474/327474 [==============================] - 16s - loss: 0.2657 - acc: 0.8849 - val_loss: 0.4797 - val_acc: 0.8025\n",
      "Epoch 25/100\n",
      "327000/327474 [============================>.] - ETA: 0s - loss: 0.2611 - acc: 0.8875Epoch 00024: val_acc improved from 0.81177 to 0.81587, saving model to base 1.h5\n",
      "327474/327474 [==============================] - 18s - loss: 0.2611 - acc: 0.8875 - val_loss: 0.4290 - val_acc: 0.8159\n",
      "Epoch 26/100\n",
      "326000/327474 [============================>.] - ETA: 0s - loss: 0.2578 - acc: 0.8888Epoch 00025: val_acc did not improve\n",
      "327474/327474 [==============================] - 16s - loss: 0.2579 - acc: 0.8887 - val_loss: 0.4296 - val_acc: 0.8102\n",
      "Epoch 27/100\n",
      "327000/327474 [============================>.] - ETA: 0s - loss: 0.2540 - acc: 0.8909Epoch 00026: val_acc did not improve\n",
      "327474/327474 [==============================] - 15s - loss: 0.2540 - acc: 0.8909 - val_loss: 0.4408 - val_acc: 0.8111\n",
      "Epoch 28/100\n",
      "327000/327474 [============================>.] - ETA: 0s - loss: 0.2505 - acc: 0.8923- ETA: 1s - lossEpoch 00027: val_acc did not improve\n",
      "327474/327474 [==============================] - 14s - loss: 0.2505 - acc: 0.8923 - val_loss: 0.4567 - val_acc: 0.8118\n",
      "Epoch 29/100\n",
      "326000/327474 [============================>.] - ETA: 0s - loss: 0.2465 - acc: 0.8941Epoch 00028: val_acc did not improve\n",
      "327474/327474 [==============================] - 17s - loss: 0.2466 - acc: 0.8941 - val_loss: 0.4462 - val_acc: 0.8117\n",
      "Epoch 30/100\n",
      "326500/327474 [============================>.] - ETA: 0s - loss: 0.2438 - acc: 0.8955Epoch 00029: val_acc did not improve\n",
      "327474/327474 [==============================] - 14s - loss: 0.2438 - acc: 0.8954 - val_loss: 0.4401 - val_acc: 0.8132\n",
      "Epoch 31/100\n",
      "327000/327474 [============================>.] - ETA: 0s - loss: 0.2405 - acc: 0.8967Epoch 00030: val_acc did not improve\n",
      "327474/327474 [==============================] - 14s - loss: 0.2405 - acc: 0.8967 - val_loss: 0.4515 - val_acc: 0.8141\n",
      "Epoch 32/100\n",
      "327000/327474 [============================>.] - ETA: 0s - loss: 0.2375 - acc: 0.8983Epoch 00031: val_acc did not improve\n",
      "327474/327474 [==============================] - 20s - loss: 0.2375 - acc: 0.8983 - val_loss: 0.4433 - val_acc: 0.8129\n",
      "Epoch 33/100\n",
      "327000/327474 [============================>.] - ETA: 0s - loss: 0.2346 - acc: 0.8997Epoch 00032: val_acc did not improve\n",
      "327474/327474 [==============================] - 21s - loss: 0.2347 - acc: 0.8997 - val_loss: 0.4608 - val_acc: 0.8076\n",
      "Epoch 34/100\n",
      "326500/327474 [============================>.] - ETA: 0s - loss: 0.2310 - acc: 0.9019Epoch 00033: val_acc did not improve\n",
      "327474/327474 [==============================] - 18s - loss: 0.2312 - acc: 0.9018 - val_loss: 0.4612 - val_acc: 0.8119\n",
      "Epoch 35/100\n",
      "326500/327474 [============================>.] - ETA: 0s - loss: 0.2290 - acc: 0.9024Epoch 00034: val_acc did not improve\n",
      "327474/327474 [==============================] - 14s - loss: 0.2290 - acc: 0.9024 - val_loss: 0.4543 - val_acc: 0.8148\n"
     ]
    },
    {
     "data": {
      "text/plain": [
       "<keras.callbacks.History at 0x7f2c712e8290>"
      ]
     },
     "execution_count": 30,
     "metadata": {},
     "output_type": "execute_result"
    }
   ],
   "source": [
    "model.fit([x1_train, x2_train], y=y_train, batch_size=500, epochs=100,\n",
    "verbose=1, validation_split=0.1, shuffle=True, callbacks=[checkpoint,estop])"
   ]
  },
  {
   "cell_type": "code",
   "execution_count": 35,
   "metadata": {},
   "outputs": [
    {
     "data": {
      "text/plain": [
       "18048"
      ]
     },
     "execution_count": 35,
     "metadata": {},
     "output_type": "execute_result"
    }
   ],
   "source": [
    "# 81.5% validation accuracy\n",
    "del q1\n",
    "del q2\n",
    "del merged\n",
    "del model\n",
    "\n",
    "K.clear_session()\n",
    "\n",
    "gc.collect()"
   ]
  },
  {
   "cell_type": "code",
   "execution_count": 24,
   "metadata": {
    "scrolled": true
   },
   "outputs": [
    {
     "name": "stdout",
     "output_type": "stream",
     "text": [
      "Base Model 2\n",
      "Build Model...\n",
      "____________________________________________________________________________________________________\n",
      "Layer (type)                     Output Shape          Param #     Connected to                     \n",
      "====================================================================================================\n",
      "input_3 (InputLayer)             (None, 30)            0                                            \n",
      "____________________________________________________________________________________________________\n",
      "input_4 (InputLayer)             (None, 30)            0                                            \n",
      "____________________________________________________________________________________________________\n",
      "embedding_2 (Embedding)          (None, 30, 300)       26510400    input_3[0][0]                    \n",
      "____________________________________________________________________________________________________\n",
      "embedding_3 (Embedding)          (None, 30, 300)       26510400    input_4[0][0]                    \n",
      "____________________________________________________________________________________________________\n",
      "time_distributed_1 (TimeDistribu (None, 30, 300)       90300       embedding_2[0][0]                \n",
      "____________________________________________________________________________________________________\n",
      "time_distributed_2 (TimeDistribu (None, 30, 300)       90300       embedding_3[0][0]                \n",
      "____________________________________________________________________________________________________\n",
      "lambda_1 (Lambda)                (None, 300)           0           time_distributed_1[0][0]         \n",
      "____________________________________________________________________________________________________\n",
      "lambda_2 (Lambda)                (None, 300)           0           time_distributed_2[0][0]         \n",
      "____________________________________________________________________________________________________\n",
      "add_1 (Add)                      (None, 300)           0           lambda_1[0][0]                   \n",
      "                                                                   lambda_2[0][0]                   \n",
      "____________________________________________________________________________________________________\n",
      "dense_3 (Dense)                  (None, 300)           90300       add_1[0][0]                      \n",
      "____________________________________________________________________________________________________\n",
      "dropout_1 (Dropout)              (None, 300)           0           dense_3[0][0]                    \n",
      "____________________________________________________________________________________________________\n",
      "batch_normalization_1 (BatchNorm (None, 300)           1200        dropout_1[0][0]                  \n",
      "____________________________________________________________________________________________________\n",
      "dense_4 (Dense)                  (None, 300)           90300       batch_normalization_1[0][0]      \n",
      "____________________________________________________________________________________________________\n",
      "dropout_2 (Dropout)              (None, 300)           0           dense_4[0][0]                    \n",
      "____________________________________________________________________________________________________\n",
      "batch_normalization_2 (BatchNorm (None, 300)           1200        dropout_2[0][0]                  \n",
      "____________________________________________________________________________________________________\n",
      "dense_5 (Dense)                  (None, 1)             301         batch_normalization_2[0][0]      \n",
      "====================================================================================================\n",
      "Total params: 53,384,701\n",
      "Trainable params: 362,701\n",
      "Non-trainable params: 53,022,000\n",
      "____________________________________________________________________________________________________\n"
     ]
    }
   ],
   "source": [
    "print('Base Model 2')\n",
    "print('Build Model...')\n",
    "\n",
    "ques1 = Input(shape=(30,))\n",
    "ques2 = Input(shape=(30,))\n",
    "q1 = Embedding(len(word_index) + 1, \n",
    "                 300, \n",
    "                 weights=[embedding_matrix], \n",
    "                 input_length=30, \n",
    "                 trainable=False)(ques1)\n",
    "\n",
    "q1 = TimeDistributed(Dense(300, activation='relu'))(q1)\n",
    "q1 = Lambda(lambda x: K.max(x, axis=1), output_shape=(300,))(q1)\n",
    "\n",
    "\n",
    "q2 = Embedding(len(word_index) + 1, \n",
    "                 300, \n",
    "                 weights=[embedding_matrix], \n",
    "                 input_length=30, \n",
    "                 trainable=False)(ques2)\n",
    "\n",
    "q2 = TimeDistributed(Dense(300, activation='relu'))(q2)\n",
    "q2 = Lambda(lambda x: K.max(x, axis=1), output_shape=(300,))(q2)\n",
    "\n",
    "\n",
    "merged = add([q1,q2])\n",
    "merged = Dense(300, activation='relu')(merged)\n",
    "merged = Dropout(0.3)(merged)\n",
    "merged = BatchNormalization()(merged)\n",
    "merged = Dense(300, activation='relu')(merged)\n",
    "merged = Dropout(0.3)(merged)\n",
    "merged = BatchNormalization()(merged)\n",
    "merged = Dense(1, activation='sigmoid')(merged)\n",
    "\n",
    "model = Model(inputs=[ques1,ques2], outputs=merged)\n",
    "\n",
    "checkpoint = ModelCheckpoint('base 2.h5', monitor='val_acc', save_best_only=True, verbose=2)\n",
    "\n",
    "estop = EarlyStopping(monitor='val_loss', min_delta=0.0001, patience=20, verbose=0, mode='auto')\n",
    "\n",
    "\n",
    "model.compile(loss='binary_crossentropy', optimizer='adam', metrics=['accuracy'])\n",
    "model.summary()"
   ]
  },
  {
   "cell_type": "code",
   "execution_count": 25,
   "metadata": {
    "scrolled": true
   },
   "outputs": [
    {
     "name": "stdout",
     "output_type": "stream",
     "text": [
      "Train on 327474 samples, validate on 36387 samples\n",
      "Epoch 1/100\n",
      "327000/327474 [============================>.] - ETA: 0s - loss: 0.5608 - acc: 0.7146Epoch 00000: val_acc improved from -inf to 0.74889, saving model to base 2.h5\n",
      "327474/327474 [==============================] - 16s - loss: 0.5607 - acc: 0.7146 - val_loss: 0.5116 - val_acc: 0.7489\n",
      "Epoch 2/100\n",
      "326500/327474 [============================>.] - ETA: 0s - loss: 0.4806 - acc: 0.7621Epoch 00001: val_acc improved from 0.74889 to 0.76242, saving model to base 2.h5\n",
      "327474/327474 [==============================] - 15s - loss: 0.4806 - acc: 0.7622 - val_loss: 0.4721 - val_acc: 0.7624\n",
      "Epoch 3/100\n",
      "326500/327474 [============================>.] - ETA: 0s - loss: 0.4452 - acc: 0.7825Epoch 00002: val_acc improved from 0.76242 to 0.77640, saving model to base 2.h5\n",
      "327474/327474 [==============================] - 15s - loss: 0.4452 - acc: 0.7826 - val_loss: 0.4505 - val_acc: 0.7764\n",
      "Epoch 4/100\n",
      "327000/327474 [============================>.] - ETA: 0s - loss: 0.4181 - acc: 0.7982Epoch 00003: val_acc improved from 0.77640 to 0.78550, saving model to base 2.h5\n",
      "327474/327474 [==============================] - 15s - loss: 0.4181 - acc: 0.7981 - val_loss: 0.4392 - val_acc: 0.7855\n",
      "Epoch 5/100\n",
      "326500/327474 [============================>.] - ETA: 0s - loss: 0.3942 - acc: 0.8121Epoch 00004: val_acc did not improve\n",
      "327474/327474 [==============================] - 14s - loss: 0.3942 - acc: 0.8122 - val_loss: 0.5449 - val_acc: 0.7541\n",
      "Epoch 6/100\n",
      "326000/327474 [============================>.] - ETA: 0s - loss: 0.3735 - acc: 0.8243Epoch 00005: val_acc improved from 0.78550 to 0.78643, saving model to base 2.h5\n",
      "327474/327474 [==============================] - 15s - loss: 0.3735 - acc: 0.8243 - val_loss: 0.4344 - val_acc: 0.7864\n",
      "Epoch 7/100\n",
      "326500/327474 [============================>.] - ETA: 0s - loss: 0.3560 - acc: 0.8339Epoch 00006: val_acc improved from 0.78643 to 0.78709, saving model to base 2.h5\n",
      "327474/327474 [==============================] - 15s - loss: 0.3560 - acc: 0.8339 - val_loss: 0.4349 - val_acc: 0.7871\n",
      "Epoch 8/100\n",
      "326000/327474 [============================>.] - ETA: 0s - loss: 0.3408 - acc: 0.8428Epoch 00007: val_acc improved from 0.78709 to 0.79831, saving model to base 2.h5\n",
      "327474/327474 [==============================] - 15s - loss: 0.3408 - acc: 0.8428 - val_loss: 0.4196 - val_acc: 0.7983\n",
      "Epoch 9/100\n",
      "326500/327474 [============================>.] - ETA: 0s - loss: 0.3280 - acc: 0.8498Epoch 00008: val_acc did not improve\n",
      "327474/327474 [==============================] - 14s - loss: 0.3280 - acc: 0.8498 - val_loss: 0.4477 - val_acc: 0.7719\n",
      "Epoch 10/100\n",
      "326500/327474 [============================>.] - ETA: 0s - loss: 0.3154 - acc: 0.8562Epoch 00009: val_acc did not improve\n",
      "327474/327474 [==============================] - 14s - loss: 0.3155 - acc: 0.8562 - val_loss: 0.4201 - val_acc: 0.7939\n",
      "Epoch 11/100\n",
      "327000/327474 [============================>.] - ETA: 0s - loss: 0.3046 - acc: 0.8626Epoch 00010: val_acc did not improve\n",
      "327474/327474 [==============================] - 14s - loss: 0.3046 - acc: 0.8626 - val_loss: 0.4312 - val_acc: 0.7982\n",
      "Epoch 12/100\n",
      "326000/327474 [============================>.] - ETA: 0s - loss: 0.2941 - acc: 0.8673Epoch 00011: val_acc did not improve\n",
      "327474/327474 [==============================] - 14s - loss: 0.2942 - acc: 0.8673 - val_loss: 0.4548 - val_acc: 0.7671\n",
      "Epoch 13/100\n",
      "327000/327474 [============================>.] - ETA: 0s - loss: 0.2845 - acc: 0.8727Epoch 00012: val_acc did not improve\n",
      "327474/327474 [==============================] - 14s - loss: 0.2845 - acc: 0.8727 - val_loss: 0.4754 - val_acc: 0.7532\n",
      "Epoch 14/100\n",
      "326500/327474 [============================>.] - ETA: 0s - loss: 0.2754 - acc: 0.8772Epoch 00013: val_acc did not improve\n",
      "327474/327474 [==============================] - 14s - loss: 0.2754 - acc: 0.8772 - val_loss: 0.4619 - val_acc: 0.7656\n",
      "Epoch 15/100\n",
      "327000/327474 [============================>.] - ETA: 0s - loss: 0.2668 - acc: 0.8822Epoch 00014: val_acc did not improve\n",
      "327474/327474 [==============================] - 14s - loss: 0.2669 - acc: 0.8822 - val_loss: 0.4338 - val_acc: 0.7863\n",
      "Epoch 16/100\n",
      "326500/327474 [============================>.] - ETA: 0s - loss: 0.2601 - acc: 0.8854Epoch 00015: val_acc did not improve\n",
      "327474/327474 [==============================] - 14s - loss: 0.2601 - acc: 0.8854 - val_loss: 0.4237 - val_acc: 0.7917\n",
      "Epoch 17/100\n",
      "327000/327474 [============================>.] - ETA: 0s - loss: 0.2531 - acc: 0.8883Epoch 00016: val_acc did not improve\n",
      "327474/327474 [==============================] - 14s - loss: 0.2531 - acc: 0.8883 - val_loss: 0.4609 - val_acc: 0.7658\n",
      "Epoch 18/100\n",
      "327000/327474 [============================>.] - ETA: 0s - loss: 0.2456 - acc: 0.8922Epoch 00017: val_acc did not improve\n",
      "327474/327474 [==============================] - 14s - loss: 0.2456 - acc: 0.8921 - val_loss: 0.4642 - val_acc: 0.7654\n",
      "Epoch 19/100\n",
      "327000/327474 [============================>.] - ETA: 0s - loss: 0.2396 - acc: 0.8955Epoch 00018: val_acc did not improve\n",
      "327474/327474 [==============================] - 14s - loss: 0.2397 - acc: 0.8954 - val_loss: 0.4886 - val_acc: 0.7502\n",
      "Epoch 20/100\n",
      "326000/327474 [============================>.] - ETA: 0s - loss: 0.2347 - acc: 0.8974Epoch 00019: val_acc did not improve\n",
      "327474/327474 [==============================] - 14s - loss: 0.2347 - acc: 0.8974 - val_loss: 0.4431 - val_acc: 0.7815\n",
      "Epoch 21/100\n",
      "326000/327474 [============================>.] - ETA: 0s - loss: 0.2286 - acc: 0.9008Epoch 00020: val_acc did not improve\n",
      "327474/327474 [==============================] - 14s - loss: 0.2286 - acc: 0.9008 - val_loss: 0.4511 - val_acc: 0.7844\n",
      "Epoch 22/100\n",
      "326500/327474 [============================>.] - ETA: 0s - loss: 0.2243 - acc: 0.9027Epoch 00021: val_acc did not improve\n",
      "327474/327474 [==============================] - 14s - loss: 0.2244 - acc: 0.9027 - val_loss: 0.4418 - val_acc: 0.7897\n",
      "Epoch 23/100\n",
      "326500/327474 [============================>.] - ETA: 0s - loss: 0.2185 - acc: 0.9056Epoch 00022: val_acc did not improve\n",
      "327474/327474 [==============================] - 14s - loss: 0.2186 - acc: 0.9056 - val_loss: 0.4623 - val_acc: 0.7781\n",
      "Epoch 24/100\n",
      "326000/327474 [============================>.] - ETA: 0s - loss: 0.2132 - acc: 0.9084Epoch 00023: val_acc did not improve\n",
      "327474/327474 [==============================] - 14s - loss: 0.2132 - acc: 0.9084 - val_loss: 0.5051 - val_acc: 0.7565\n",
      "Epoch 25/100\n",
      "326000/327474 [============================>.] - ETA: 0s - loss: 0.2101 - acc: 0.9101Epoch 00024: val_acc did not improve\n",
      "327474/327474 [==============================] - 15s - loss: 0.2101 - acc: 0.9101 - val_loss: 0.4540 - val_acc: 0.7808\n",
      "Epoch 26/100\n",
      "326500/327474 [============================>.] - ETA: 0s - loss: 0.2054 - acc: 0.9124Epoch 00025: val_acc did not improve\n",
      "327474/327474 [==============================] - 14s - loss: 0.2054 - acc: 0.9124 - val_loss: 0.4551 - val_acc: 0.7823\n",
      "Epoch 27/100\n",
      "326500/327474 [============================>.] - ETA: 0s - loss: 0.2010 - acc: 0.9145Epoch 00026: val_acc did not improve\n",
      "327474/327474 [==============================] - 14s - loss: 0.2010 - acc: 0.9145 - val_loss: 0.4699 - val_acc: 0.7809\n",
      "Epoch 28/100\n",
      "327000/327474 [============================>.] - ETA: 0s - loss: 0.1982 - acc: 0.9159Epoch 00027: val_acc did not improve\n",
      "327474/327474 [==============================] - 15s - loss: 0.1982 - acc: 0.9158 - val_loss: 0.4811 - val_acc: 0.7929\n",
      "Epoch 29/100\n",
      "326000/327474 [============================>.] - ETA: 0s - loss: 0.1935 - acc: 0.9180Epoch 00028: val_acc improved from 0.79831 to 0.80232, saving model to base 2.h5\n",
      "327474/327474 [==============================] - 15s - loss: 0.1934 - acc: 0.9180 - val_loss: 0.4602 - val_acc: 0.8023\n"
     ]
    },
    {
     "data": {
      "text/plain": [
       "<keras.callbacks.History at 0x7f1d75616b50>"
      ]
     },
     "execution_count": 25,
     "metadata": {},
     "output_type": "execute_result"
    }
   ],
   "source": [
    "model.fit([x1_train, x2_train], y=y_train, batch_size=500, epochs=100,\n",
    "verbose=1, validation_split=0.1, shuffle=True, callbacks=[checkpoint,estop])"
   ]
  },
  {
   "cell_type": "code",
   "execution_count": 26,
   "metadata": {},
   "outputs": [
    {
     "data": {
      "text/plain": [
       "0"
      ]
     },
     "execution_count": 26,
     "metadata": {},
     "output_type": "execute_result"
    }
   ],
   "source": [
    "# 80.2% accuracy\n",
    "#Taking max in the lambda layer instead of sum and increasing the dropout seems to have made a bad efect.\n",
    "\n",
    "del q1\n",
    "del q2\n",
    "del merged\n",
    "del model\n",
    "K.clear_session()\n",
    "\n",
    "gc.collect()"
   ]
  },
  {
   "cell_type": "code",
   "execution_count": 14,
   "metadata": {
    "scrolled": true
   },
   "outputs": [
    {
     "name": "stdout",
     "output_type": "stream",
     "text": [
      "Base Model 3\n",
      "Build Model...\n",
      "____________________________________________________________________________________________________\n",
      "Layer (type)                     Output Shape          Param #     Connected to                     \n",
      "====================================================================================================\n",
      "input_3 (InputLayer)             (None, 30)            0                                            \n",
      "____________________________________________________________________________________________________\n",
      "input_4 (InputLayer)             (None, 30)            0                                            \n",
      "____________________________________________________________________________________________________\n",
      "embedding_2 (Embedding)          (None, 30, 300)       26510400    input_3[0][0]                    \n",
      "____________________________________________________________________________________________________\n",
      "embedding_3 (Embedding)          (None, 30, 300)       26510400    input_4[0][0]                    \n",
      "____________________________________________________________________________________________________\n",
      "time_distributed_1 (TimeDistribu (None, 30, 300)       90300       embedding_2[0][0]                \n",
      "____________________________________________________________________________________________________\n",
      "time_distributed_2 (TimeDistribu (None, 30, 300)       90300       embedding_3[0][0]                \n",
      "____________________________________________________________________________________________________\n",
      "lambda_1 (Lambda)                (None, 300)           0           time_distributed_1[0][0]         \n",
      "____________________________________________________________________________________________________\n",
      "lambda_2 (Lambda)                (None, 300)           0           time_distributed_2[0][0]         \n",
      "____________________________________________________________________________________________________\n",
      "add_1 (Add)                      (None, 300)           0           lambda_1[0][0]                   \n",
      "                                                                   lambda_2[0][0]                   \n",
      "____________________________________________________________________________________________________\n",
      "batch_normalization_1 (BatchNorm (None, 300)           1200        add_1[0][0]                      \n",
      "____________________________________________________________________________________________________\n",
      "dense_3 (Dense)                  (None, 300)           90300       batch_normalization_1[0][0]      \n",
      "____________________________________________________________________________________________________\n",
      "dropout_1 (Dropout)              (None, 300)           0           dense_3[0][0]                    \n",
      "____________________________________________________________________________________________________\n",
      "batch_normalization_2 (BatchNorm (None, 300)           1200        dropout_1[0][0]                  \n",
      "____________________________________________________________________________________________________\n",
      "dense_4 (Dense)                  (None, 300)           90300       batch_normalization_2[0][0]      \n",
      "____________________________________________________________________________________________________\n",
      "dropout_2 (Dropout)              (None, 300)           0           dense_4[0][0]                    \n",
      "____________________________________________________________________________________________________\n",
      "batch_normalization_3 (BatchNorm (None, 300)           1200        dropout_2[0][0]                  \n",
      "____________________________________________________________________________________________________\n",
      "dense_5 (Dense)                  (None, 1)             301         batch_normalization_3[0][0]      \n",
      "====================================================================================================\n",
      "Total params: 53,385,901\n",
      "Trainable params: 363,301\n",
      "Non-trainable params: 53,022,600\n",
      "____________________________________________________________________________________________________\n"
     ]
    }
   ],
   "source": [
    "print('Base Model 3')\n",
    "print('Build Model...')\n",
    "\n",
    "ques1 = Input(shape=(30,))\n",
    "ques2 = Input(shape=(30,))\n",
    "q1 = Embedding(len(word_index) + 1, \n",
    "                 300, \n",
    "                 weights=[embedding_matrix], \n",
    "                 input_length=30, \n",
    "                 trainable=False)(ques1)\n",
    "\n",
    "q1 = TimeDistributed(Dense(300, activation='relu'))(q1)\n",
    "q1 = Lambda(lambda x: K.max(x, axis=1), output_shape=(300,))(q1)\n",
    "\n",
    "\n",
    "q2 = Embedding(len(word_index) + 1, \n",
    "                 300, \n",
    "                 weights=[embedding_matrix], \n",
    "                 input_length=30, \n",
    "                 trainable=False)(ques2)\n",
    "\n",
    "q2 = TimeDistributed(Dense(300, activation='relu'))(q2)\n",
    "q2 = Lambda(lambda x: K.max(x, axis=1), output_shape=(300,))(q2)\n",
    "\n",
    "\n",
    "merged = add([q1,q2])\n",
    "merged = BatchNormalization()(merged)\n",
    "merged = Dense(300, activation='relu')(merged)\n",
    "merged = Dropout(0.1)(merged)\n",
    "merged = BatchNormalization()(merged)\n",
    "merged = Dense(300, activation='relu')(merged)\n",
    "merged = Dropout(0.1)(merged)\n",
    "merged = BatchNormalization()(merged)\n",
    "merged = Dense(1, activation='sigmoid')(merged)\n",
    "\n",
    "model = Model(inputs=[ques1,ques2], outputs=merged)\n",
    "\n",
    "checkpoint = ModelCheckpoint('base 3.h5', monitor='val_acc', save_best_only=True, verbose=2)\n",
    "\n",
    "estop = EarlyStopping(monitor='val_loss', min_delta=0.0001, patience=20, verbose=0, mode='auto')\n",
    "\n",
    "\n",
    "model.compile(loss='binary_crossentropy', optimizer='adam', metrics=['accuracy'])\n",
    "model.summary()"
   ]
  },
  {
   "cell_type": "code",
   "execution_count": 15,
   "metadata": {
    "scrolled": true
   },
   "outputs": [
    {
     "name": "stdout",
     "output_type": "stream",
     "text": [
      "Train on 327474 samples, validate on 36387 samples\n",
      "Epoch 1/100\n",
      "326000/327474 [============================>.] - ETA: 0s - loss: 0.5032 - acc: 0.7474Epoch 00000: val_acc improved from -inf to 0.78621, saving model to base 3.h5\n",
      "327474/327474 [==============================] - 16s - loss: 0.5029 - acc: 0.7476 - val_loss: 0.4351 - val_acc: 0.7862\n",
      "Epoch 2/100\n",
      "326500/327474 [============================>.] - ETA: 0s - loss: 0.4159 - acc: 0.7992- ETA: 5s - loss: 0. - ETA: 1sEpoch 00001: val_acc improved from 0.78621 to 0.80078, saving model to base 3.h5\n",
      "327474/327474 [==============================] - 15s - loss: 0.4159 - acc: 0.7992 - val_loss: 0.4110 - val_acc: 0.8008\n",
      "Epoch 3/100\n",
      "326000/327474 [============================>.] - ETA: 0s - loss: 0.3754 - acc: 0.8233Epoch 00002: val_acc improved from 0.80078 to 0.80765, saving model to base 3.h5\n",
      "327474/327474 [==============================] - 15s - loss: 0.3754 - acc: 0.8233 - val_loss: 0.4031 - val_acc: 0.8077\n",
      "Epoch 4/100\n",
      "326000/327474 [============================>.] - ETA: 0s - loss: 0.3432 - acc: 0.8423Epoch 00003: val_acc improved from 0.80765 to 0.81394, saving model to base 3.h5\n",
      "327474/327474 [==============================] - 15s - loss: 0.3432 - acc: 0.8423 - val_loss: 0.3949 - val_acc: 0.8139\n",
      "Epoch 5/100\n",
      "326500/327474 [============================>.] - ETA: 0s - loss: 0.3159 - acc: 0.8571Epoch 00004: val_acc improved from 0.81394 to 0.81809, saving model to base 3.h5\n",
      "327474/327474 [==============================] - 15s - loss: 0.3160 - acc: 0.8570 - val_loss: 0.3981 - val_acc: 0.8181\n",
      "Epoch 6/100\n",
      "326500/327474 [============================>.] - ETA: 0s - loss: 0.2916 - acc: 0.8693Epoch 00005: val_acc did not improve\n",
      "327474/327474 [==============================] - 14s - loss: 0.2918 - acc: 0.8692 - val_loss: 0.4020 - val_acc: 0.8178\n",
      "Epoch 7/100\n",
      "326500/327474 [============================>.] - ETA: 0s - loss: 0.2713 - acc: 0.8797Epoch 00006: val_acc did not improve\n",
      "327474/327474 [==============================] - 14s - loss: 0.2713 - acc: 0.8797 - val_loss: 0.4063 - val_acc: 0.8178\n",
      "Epoch 8/100\n",
      "327000/327474 [============================>.] - ETA: 0s - loss: 0.2510 - acc: 0.8901Epoch 00007: val_acc improved from 0.81809 to 0.82035, saving model to base 3.h5\n",
      "327474/327474 [==============================] - 15s - loss: 0.2511 - acc: 0.8900 - val_loss: 0.4238 - val_acc: 0.8203\n",
      "Epoch 9/100\n",
      "326000/327474 [============================>.] - ETA: 0s - loss: 0.2340 - acc: 0.8984- ETA: 1s - loss: 0.233Epoch 00008: val_acc did not improve\n",
      "327474/327474 [==============================] - 15s - loss: 0.2342 - acc: 0.8983 - val_loss: 0.4362 - val_acc: 0.8173\n",
      "Epoch 10/100\n",
      "327000/327474 [============================>.] - ETA: 0s - loss: 0.2188 - acc: 0.9059Epoch 00009: val_acc did not improve\n",
      "327474/327474 [==============================] - 14s - loss: 0.2188 - acc: 0.9059 - val_loss: 0.4486 - val_acc: 0.8200\n",
      "Epoch 11/100\n",
      "327000/327474 [============================>.] - ETA: 0s - loss: 0.2050 - acc: 0.9119Epoch 00010: val_acc improved from 0.82035 to 0.82062, saving model to base 3.h5\n",
      "327474/327474 [==============================] - 15s - loss: 0.2051 - acc: 0.9119 - val_loss: 0.4652 - val_acc: 0.8206\n",
      "Epoch 12/100\n",
      "326500/327474 [============================>.] - ETA: 0s - loss: 0.1931 - acc: 0.9177Epoch 00011: val_acc did not improve\n",
      "327474/327474 [==============================] - 14s - loss: 0.1932 - acc: 0.9177 - val_loss: 0.4761 - val_acc: 0.8203\n",
      "Epoch 13/100\n",
      "326500/327474 [============================>.] - ETA: 0s - loss: 0.1828 - acc: 0.9230Epoch 00012: val_acc did not improve\n",
      "327474/327474 [==============================] - 14s - loss: 0.1829 - acc: 0.9230 - val_loss: 0.4979 - val_acc: 0.8192\n",
      "Epoch 14/100\n",
      "327000/327474 [============================>.] - ETA: 0s - loss: 0.1734 - acc: 0.9271Epoch 00013: val_acc improved from 0.82062 to 0.82365, saving model to base 3.h5\n",
      "327474/327474 [==============================] - 15s - loss: 0.1733 - acc: 0.9272 - val_loss: 0.5170 - val_acc: 0.8236\n",
      "Epoch 15/100\n",
      "326000/327474 [============================>.] - ETA: 0s - loss: 0.1635 - acc: 0.9317Epoch 00014: val_acc did not improve\n",
      "327474/327474 [==============================] - 14s - loss: 0.1637 - acc: 0.9315 - val_loss: 0.5228 - val_acc: 0.8171\n",
      "Epoch 16/100\n",
      "327000/327474 [============================>.] - ETA: 0s - loss: 0.1560 - acc: 0.9349Epoch 00015: val_acc did not improve\n",
      "327474/327474 [==============================] - 14s - loss: 0.1561 - acc: 0.9349 - val_loss: 0.5151 - val_acc: 0.8200\n",
      "Epoch 17/100\n",
      "326000/327474 [============================>.] - ETA: 0s - loss: 0.1497 - acc: 0.9383- ETA: 3s - loss: 0 - ETA: 2s  - ETA: 0s - loss: 0.1489 -Epoch 00016: val_acc did not improve\n",
      "327474/327474 [==============================] - 14s - loss: 0.1497 - acc: 0.9383 - val_loss: 0.5441 - val_acc: 0.8211\n",
      "Epoch 18/100\n",
      "326000/327474 [============================>.] - ETA: 0s - loss: 0.1437 - acc: 0.9409Epoch 00017: val_acc improved from 0.82365 to 0.82411, saving model to base 3.h5\n",
      "327474/327474 [==============================] - 15s - loss: 0.1437 - acc: 0.9409 - val_loss: 0.5500 - val_acc: 0.8241\n",
      "Epoch 19/100\n",
      "327000/327474 [============================>.] - ETA: 0s - loss: 0.1377 - acc: 0.9434Epoch 00018: val_acc did not improve\n",
      "327474/327474 [==============================] - 14s - loss: 0.1377 - acc: 0.9434 - val_loss: 0.5592 - val_acc: 0.8239\n",
      "Epoch 20/100\n",
      "326500/327474 [============================>.] - ETA: 0s - loss: 0.1321 - acc: 0.9460Epoch 00019: val_acc did not improve\n",
      "327474/327474 [==============================] - 14s - loss: 0.1321 - acc: 0.9460 - val_loss: 0.5650 - val_acc: 0.8238\n",
      "Epoch 21/100\n",
      "326500/327474 [============================>.] - ETA: 0s - loss: 0.1282 - acc: 0.9478- ETA: Epoch 00020: val_acc improved from 0.82411 to 0.82469, saving model to base 3.h5\n",
      "327474/327474 [==============================] - 15s - loss: 0.1283 - acc: 0.9478 - val_loss: 0.5876 - val_acc: 0.8247\n",
      "Epoch 22/100\n",
      "326500/327474 [============================>.] - ETA: 0s - loss: 0.1247 - acc: 0.9487Epoch 00021: val_acc improved from 0.82469 to 0.82763, saving model to base 3.h5\n",
      "327474/327474 [==============================] - 15s - loss: 0.1249 - acc: 0.9486 - val_loss: 0.5889 - val_acc: 0.8276\n",
      "Epoch 23/100\n",
      "326000/327474 [============================>.] - ETA: 0s - loss: 0.1194 - acc: 0.9517Epoch 00022: val_acc did not improve\n",
      "327474/327474 [==============================] - 14s - loss: 0.1195 - acc: 0.9516 - val_loss: 0.5909 - val_acc: 0.8252\n",
      "Epoch 24/100\n",
      "326500/327474 [============================>.] - ETA: 0s - loss: 0.1151 - acc: 0.9537Epoch 00023: val_acc did not improve\n",
      "327474/327474 [==============================] - 14s - loss: 0.1152 - acc: 0.9536 - val_loss: 0.6145 - val_acc: 0.8240\n",
      "Epoch 25/100\n",
      "327000/327474 [============================>.] - ETA: 0s - loss: 0.1126 - acc: 0.9546Epoch 00024: val_acc did not improve\n",
      "327474/327474 [==============================] - 14s - loss: 0.1127 - acc: 0.9546 - val_loss: 0.6077 - val_acc: 0.8226\n"
     ]
    },
    {
     "data": {
      "text/plain": [
       "<keras.callbacks.History at 0x7efe23e35f90>"
      ]
     },
     "execution_count": 15,
     "metadata": {},
     "output_type": "execute_result"
    }
   ],
   "source": [
    "model.fit([x1_train, x2_train], y=y_train, batch_size=500, epochs=100,\n",
    "verbose=1, validation_split=0.1, shuffle=True, callbacks=[checkpoint,estop])"
   ]
  },
  {
   "cell_type": "code",
   "execution_count": 12,
   "metadata": {},
   "outputs": [
    {
     "data": {
      "text/plain": [
       "85"
      ]
     },
     "execution_count": 12,
     "metadata": {},
     "output_type": "execute_result"
    }
   ],
   "source": [
    "# 82.7% accuracy\n",
    "#Taking max in the lambda layer instead of sum and decreasing the dropout works like a charm.\n",
    "\n",
    "del q1\n",
    "del q2\n",
    "del merged\n",
    "del model\n",
    "K.clear_session()\n",
    "\n",
    "gc.collect()"
   ]
  },
  {
   "cell_type": "code",
   "execution_count": 15,
   "metadata": {
    "scrolled": true
   },
   "outputs": [
    {
     "name": "stdout",
     "output_type": "stream",
     "text": [
      "Base 4\n",
      "Build model . . \n",
      "____________________________________________________________________________________________________\n",
      "Layer (type)                     Output Shape          Param #     Connected to                     \n",
      "====================================================================================================\n",
      "input_1 (InputLayer)             (None, 30)            0                                            \n",
      "____________________________________________________________________________________________________\n",
      "input_2 (InputLayer)             (None, 30)            0                                            \n",
      "____________________________________________________________________________________________________\n",
      "embedding_1 (Embedding)          (None, 30, 300)       26510400    input_1[0][0]                    \n",
      "____________________________________________________________________________________________________\n",
      "embedding_2 (Embedding)          (None, 30, 300)       26510400    input_2[0][0]                    \n",
      "____________________________________________________________________________________________________\n",
      "conv1d_1 (Conv1D)                (None, 30, 64)        38464       embedding_1[0][0]                \n",
      "____________________________________________________________________________________________________\n",
      "conv1d_2 (Conv1D)                (None, 30, 64)        38464       embedding_2[0][0]                \n",
      "____________________________________________________________________________________________________\n",
      "dropout_1 (Dropout)              (None, 30, 64)        0           conv1d_1[0][0]                   \n",
      "____________________________________________________________________________________________________\n",
      "dropout_2 (Dropout)              (None, 30, 64)        0           conv1d_2[0][0]                   \n",
      "____________________________________________________________________________________________________\n",
      "global_average_pooling1d_1 (Glob (None, 64)            0           dropout_1[0][0]                  \n",
      "____________________________________________________________________________________________________\n",
      "global_average_pooling1d_2 (Glob (None, 64)            0           dropout_2[0][0]                  \n",
      "____________________________________________________________________________________________________\n",
      "concatenate_1 (Concatenate)      (None, 128)           0           global_average_pooling1d_1[0][0] \n",
      "                                                                   global_average_pooling1d_2[0][0] \n",
      "____________________________________________________________________________________________________\n",
      "batch_normalization_1 (BatchNorm (None, 128)           512         concatenate_1[0][0]              \n",
      "____________________________________________________________________________________________________\n",
      "dense_1 (Dense)                  (None, 128)           16512       batch_normalization_1[0][0]      \n",
      "____________________________________________________________________________________________________\n",
      "dropout_3 (Dropout)              (None, 128)           0           dense_1[0][0]                    \n",
      "____________________________________________________________________________________________________\n",
      "batch_normalization_2 (BatchNorm (None, 128)           512         dropout_3[0][0]                  \n",
      "____________________________________________________________________________________________________\n",
      "dense_2 (Dense)                  (None, 64)            8256        batch_normalization_2[0][0]      \n",
      "____________________________________________________________________________________________________\n",
      "dropout_4 (Dropout)              (None, 64)            0           dense_2[0][0]                    \n",
      "____________________________________________________________________________________________________\n",
      "batch_normalization_3 (BatchNorm (None, 64)            256         dropout_4[0][0]                  \n",
      "____________________________________________________________________________________________________\n",
      "dense_3 (Dense)                  (None, 1)             65          batch_normalization_3[0][0]      \n",
      "====================================================================================================\n",
      "Total params: 53,123,841\n",
      "Trainable params: 102,401\n",
      "Non-trainable params: 53,021,440\n",
      "____________________________________________________________________________________________________\n"
     ]
    }
   ],
   "source": [
    "print('Base 4')\n",
    "\n",
    "print(\"Build model . . \")\n",
    "\n",
    "ques1 = Input(shape=(30,))\n",
    "ques2 = Input(shape=(30,))\n",
    "q1 = Embedding(len(word_index) + 1, 300, weights=[embedding_matrix], input_length=30, trainable=False)(ques1)\n",
    "q1 = Conv1D(filters = 64,kernel_size=2,strides = 1,padding='same', activation='relu')(q1)\n",
    "q1 = Dropout(0.2)(q1)\n",
    "q1 = GlobalAveragePooling1D()(q1)\n",
    "\n",
    "q2 = Embedding(len(word_index) + 1, 300, weights=[embedding_matrix], input_length=30, trainable=False)(ques2)\n",
    "q2 = Conv1D(filters = 64,kernel_size=2,strides = 1,padding='same', activation='relu')(q2)\n",
    "q2 = Dropout(0.2)(q2)\n",
    "q2 = GlobalAveragePooling1D()(q2)\n",
    "\n",
    "\n",
    "#merge1 = add([q1,q2])\n",
    "#merge2 = subtract([q1,q2])\n",
    "merged = concatenate([q1,q2])\n",
    "merged = BatchNormalization()(merged)\n",
    "merged = Dense(128, activation='relu')(merged)\n",
    "merged = Dropout(0.1)(merged)\n",
    "merged = BatchNormalization()(merged)\n",
    "merged = Dense(64, activation='relu')(merged)\n",
    "merged = Dropout(0.1)(merged)\n",
    "merged = BatchNormalization()(merged)\n",
    "merged = Dense(1, activation='sigmoid')(merged)\n",
    "\n",
    "model = Model(inputs=[ques1,ques2], outputs=merged)\n",
    "\n",
    "checkpoint = ModelCheckpoint('base 4.h5', monitor='val_acc', save_best_only=True, verbose=2)\n",
    "\n",
    "estop = EarlyStopping(monitor='val_loss', min_delta=0.0001, patience=20, verbose=0, mode='auto')\n",
    "\n",
    "\n",
    "model.compile(loss='binary_crossentropy', optimizer='adam', metrics=['accuracy'])\n",
    "model.summary()"
   ]
  },
  {
   "cell_type": "code",
   "execution_count": 16,
   "metadata": {
    "scrolled": true
   },
   "outputs": [
    {
     "name": "stdout",
     "output_type": "stream",
     "text": [
      "Train on 327474 samples, validate on 36387 samples\n",
      "Epoch 1/100\n",
      "327000/327474 [============================>.] - ETA: 0s - loss: 0.5407 - acc: 0.7205Epoch 00000: val_acc improved from -inf to 0.75763, saving model to base 4.h5\n",
      "327474/327474 [==============================] - 14s - loss: 0.5407 - acc: 0.7205 - val_loss: 0.4892 - val_acc: 0.7576\n",
      "Epoch 2/100\n",
      "326000/327474 [============================>.] - ETA: 0s - loss: 0.4775 - acc: 0.7620Epoch 00001: val_acc improved from 0.75763 to 0.77506, saving model to base 4.h5\n",
      "327474/327474 [==============================] - 14s - loss: 0.4775 - acc: 0.7620 - val_loss: 0.4523 - val_acc: 0.7751\n",
      "Epoch 3/100\n",
      "327000/327474 [============================>.] - ETA: 0s - loss: 0.4523 - acc: 0.7767Epoch 00002: val_acc improved from 0.77506 to 0.78171, saving model to base 4.h5\n",
      "327474/327474 [==============================] - 14s - loss: 0.4523 - acc: 0.7767 - val_loss: 0.4416 - val_acc: 0.7817\n",
      "Epoch 4/100\n",
      "326000/327474 [============================>.] - ETA: 0s - loss: 0.4357 - acc: 0.7871Epoch 00003: val_acc improved from 0.78171 to 0.79031, saving model to base 4.h5\n",
      "327474/327474 [==============================] - 14s - loss: 0.4356 - acc: 0.7871 - val_loss: 0.4277 - val_acc: 0.7903\n",
      "Epoch 5/100\n",
      "327000/327474 [============================>.] - ETA: 0s - loss: 0.4214 - acc: 0.7955Epoch 00004: val_acc improved from 0.79031 to 0.79163, saving model to base 4.h5\n",
      "327474/327474 [==============================] - 14s - loss: 0.4214 - acc: 0.7956 - val_loss: 0.4246 - val_acc: 0.7916\n",
      "Epoch 6/100\n",
      "327000/327474 [============================>.] - ETA: 0s - loss: 0.4129 - acc: 0.8009Epoch 00005: val_acc improved from 0.79163 to 0.79831, saving model to base 4.h5\n",
      "327474/327474 [==============================] - 14s - loss: 0.4129 - acc: 0.8008 - val_loss: 0.4150 - val_acc: 0.7983\n",
      "Epoch 7/100\n",
      "326000/327474 [============================>.] - ETA: 0s - loss: 0.4031 - acc: 0.8066Epoch 00006: val_acc improved from 0.79831 to 0.80012, saving model to base 4.h5\n",
      "327474/327474 [==============================] - 15s - loss: 0.4031 - acc: 0.8066 - val_loss: 0.4106 - val_acc: 0.8001\n",
      "Epoch 8/100\n",
      "326000/327474 [============================>.] - ETA: 0s - loss: 0.3967 - acc: 0.8107- ETA: 1s - loss:Epoch 00007: val_acc improved from 0.80012 to 0.80152, saving model to base 4.h5\n",
      "327474/327474 [==============================] - 15s - loss: 0.3967 - acc: 0.8106 - val_loss: 0.4079 - val_acc: 0.8015\n",
      "Epoch 9/100\n",
      "326000/327474 [============================>.] - ETA: 0s - loss: 0.3902 - acc: 0.8149Epoch 00008: val_acc did not improve\n",
      "327474/327474 [==============================] - 14s - loss: 0.3902 - acc: 0.8148 - val_loss: 0.4101 - val_acc: 0.7994\n",
      "Epoch 10/100\n",
      "326500/327474 [============================>.] - ETA: 0s - loss: 0.3842 - acc: 0.8182Epoch 00009: val_acc improved from 0.80152 to 0.80521, saving model to base 4.h5\n",
      "327474/327474 [==============================] - 16s - loss: 0.3842 - acc: 0.8182 - val_loss: 0.4019 - val_acc: 0.8052\n",
      "Epoch 11/100\n",
      "327000/327474 [============================>.] - ETA: 0s - loss: 0.3791 - acc: 0.8210Epoch 00010: val_acc improved from 0.80521 to 0.80727, saving model to base 4.h5\n",
      "327474/327474 [==============================] - 18s - loss: 0.3791 - acc: 0.8210 - val_loss: 0.4010 - val_acc: 0.8073\n",
      "Epoch 12/100\n",
      "327000/327474 [============================>.] - ETA: 0s - loss: 0.3750 - acc: 0.8240Epoch 00011: val_acc improved from 0.80727 to 0.80859, saving model to base 4.h5\n",
      "327474/327474 [==============================] - 15s - loss: 0.3750 - acc: 0.8240 - val_loss: 0.3985 - val_acc: 0.8086\n",
      "Epoch 13/100\n",
      "326000/327474 [============================>.] - ETA: 0s - loss: 0.3715 - acc: 0.8251Epoch 00012: val_acc did not improve\n",
      "327474/327474 [==============================] - 18s - loss: 0.3716 - acc: 0.8251 - val_loss: 0.4118 - val_acc: 0.7998\n",
      "Epoch 14/100\n",
      "326500/327474 [============================>.] - ETA: 0s - loss: 0.3678 - acc: 0.8278Epoch 00013: val_acc did not improve\n",
      "327474/327474 [==============================] - 17s - loss: 0.3678 - acc: 0.8278 - val_loss: 0.4033 - val_acc: 0.8041\n",
      "Epoch 15/100\n",
      "327000/327474 [============================>.] - ETA: 0s - loss: 0.3636 - acc: 0.8305Epoch 00014: val_acc did not improve\n",
      "327474/327474 [==============================] - 16s - loss: 0.3636 - acc: 0.8305 - val_loss: 0.4013 - val_acc: 0.8048\n",
      "Epoch 16/100\n",
      "327000/327474 [============================>.] - ETA: 0s - loss: 0.3604 - acc: 0.8319Epoch 00015: val_acc did not improve\n",
      "327474/327474 [==============================] - 17s - loss: 0.3603 - acc: 0.8319 - val_loss: 0.3998 - val_acc: 0.8067\n",
      "Epoch 17/100\n",
      "326500/327474 [============================>.] - ETA: 0s - loss: 0.3580 - acc: 0.8324Epoch 00016: val_acc improved from 0.80859 to 0.81007, saving model to base 4.h5\n",
      "327474/327474 [==============================] - 18s - loss: 0.3580 - acc: 0.8324 - val_loss: 0.3962 - val_acc: 0.8101\n",
      "Epoch 18/100\n",
      "326500/327474 [============================>.] - ETA: 0s - loss: 0.3552 - acc: 0.8349Epoch 00017: val_acc did not improve\n",
      "327474/327474 [==============================] - 17s - loss: 0.3553 - acc: 0.8348 - val_loss: 0.3965 - val_acc: 0.8087\n",
      "Epoch 19/100\n",
      "326000/327474 [============================>.] - ETA: 0s - loss: 0.3529 - acc: 0.8358Epoch 00018: val_acc improved from 0.81007 to 0.81230, saving model to base 4.h5\n",
      "327474/327474 [==============================] - 18s - loss: 0.3528 - acc: 0.8358 - val_loss: 0.3951 - val_acc: 0.8123\n",
      "Epoch 20/100\n",
      "326500/327474 [============================>.] - ETA: 0s - loss: 0.3502 - acc: 0.8372Epoch 00019: val_acc did not improve\n",
      "327474/327474 [==============================] - 17s - loss: 0.3502 - acc: 0.8372 - val_loss: 0.3982 - val_acc: 0.8083\n",
      "Epoch 21/100\n",
      "327000/327474 [============================>.] - ETA: 0s - loss: 0.3480 - acc: 0.8381Epoch 00020: val_acc did not improve\n",
      "327474/327474 [==============================] - 17s - loss: 0.3480 - acc: 0.8381 - val_loss: 0.3967 - val_acc: 0.8081\n",
      "Epoch 22/100\n",
      "326500/327474 [============================>.] - ETA: 0s - loss: 0.3452 - acc: 0.8408Epoch 00021: val_acc did not improve\n",
      "327474/327474 [==============================] - 17s - loss: 0.3452 - acc: 0.8408 - val_loss: 0.3964 - val_acc: 0.8085\n",
      "Epoch 23/100\n",
      "327000/327474 [============================>.] - ETA: 0s - loss: 0.3433 - acc: 0.8412Epoch 00022: val_acc did not improve\n",
      "327474/327474 [==============================] - 19s - loss: 0.3433 - acc: 0.8412 - val_loss: 0.3980 - val_acc: 0.8085\n",
      "Epoch 24/100\n",
      "326000/327474 [============================>.] - ETA: 0s - loss: 0.3415 - acc: 0.8427Epoch 00023: val_acc did not improve\n",
      "327474/327474 [==============================] - 18s - loss: 0.3415 - acc: 0.8427 - val_loss: 0.3932 - val_acc: 0.8117\n",
      "Epoch 25/100\n",
      "326500/327474 [============================>.] - ETA: 0s - loss: 0.3400 - acc: 0.8433- ETA: 1s - loss: Epoch 00024: val_acc did not improve\n",
      "327474/327474 [==============================] - 19s - loss: 0.3401 - acc: 0.8432 - val_loss: 0.3981 - val_acc: 0.8092\n",
      "Epoch 26/100\n",
      "327000/327474 [============================>.] - ETA: 0s - loss: 0.3378 - acc: 0.8449- ETA: 0s - loss: 0.3374 - acc: Epoch 00025: val_acc did not improve\n",
      "327474/327474 [==============================] - 17s - loss: 0.3378 - acc: 0.8448 - val_loss: 0.3957 - val_acc: 0.8094\n",
      "Epoch 27/100\n",
      "327000/327474 [============================>.] - ETA: 0s - loss: 0.3362 - acc: 0.8459Epoch 00026: val_acc did not improve\n",
      "327474/327474 [==============================] - 20s - loss: 0.3362 - acc: 0.8459 - val_loss: 0.3993 - val_acc: 0.8103\n",
      "Epoch 28/100\n",
      "327000/327474 [============================>.] - ETA: 0s - loss: 0.3347 - acc: 0.8455Epoch 00027: val_acc improved from 0.81230 to 0.81419, saving model to base 4.h5\n",
      "327474/327474 [==============================] - 19s - loss: 0.3347 - acc: 0.8455 - val_loss: 0.3912 - val_acc: 0.8142\n",
      "Epoch 29/100\n",
      "326500/327474 [============================>.] - ETA: 0s - loss: 0.3333 - acc: 0.8474Epoch 00028: val_acc did not improve\n",
      "327474/327474 [==============================] - 18s - loss: 0.3332 - acc: 0.8474 - val_loss: 0.3987 - val_acc: 0.8096\n",
      "Epoch 30/100\n",
      "327000/327474 [============================>.] - ETA: 0s - loss: 0.3320 - acc: 0.8481Epoch 00029: val_acc improved from 0.81419 to 0.81526, saving model to base 4.h5\n",
      "327474/327474 [==============================] - 19s - loss: 0.3320 - acc: 0.8481 - val_loss: 0.3911 - val_acc: 0.8153\n",
      "Epoch 31/100\n",
      "327000/327474 [============================>.] - ETA: 0s - loss: 0.3306 - acc: 0.8486Epoch 00030: val_acc did not improve\n",
      "327474/327474 [==============================] - 18s - loss: 0.3307 - acc: 0.8486 - val_loss: 0.3924 - val_acc: 0.8128\n",
      "Epoch 32/100\n",
      "326000/327474 [============================>.] - ETA: 0s - loss: 0.3286 - acc: 0.8495Epoch 00031: val_acc did not improve\n",
      "327474/327474 [==============================] - 17s - loss: 0.3285 - acc: 0.8495 - val_loss: 0.3948 - val_acc: 0.8107\n",
      "Epoch 33/100\n",
      "326000/327474 [============================>.] - ETA: 0s - loss: 0.3276 - acc: 0.8504Epoch 00032: val_acc did not improve\n",
      "327474/327474 [==============================] - 16s - loss: 0.3277 - acc: 0.8504 - val_loss: 0.3994 - val_acc: 0.8087\n",
      "Epoch 34/100\n",
      "326500/327474 [============================>.] - ETA: 0s - loss: 0.3266 - acc: 0.8507Epoch 00033: val_acc did not improve\n",
      "327474/327474 [==============================] - 16s - loss: 0.3266 - acc: 0.8507 - val_loss: 0.3950 - val_acc: 0.8113\n",
      "Epoch 35/100\n",
      "326500/327474 [============================>.] - ETA: 0s - loss: 0.3250 - acc: 0.8514Epoch 00034: val_acc did not improve\n",
      "327474/327474 [==============================] - 16s - loss: 0.3250 - acc: 0.8514 - val_loss: 0.3992 - val_acc: 0.8071\n",
      "Epoch 36/100\n",
      "326500/327474 [============================>.] - ETA: 0s - loss: 0.3245 - acc: 0.8520Epoch 00035: val_acc did not improve\n",
      "327474/327474 [==============================] - 19s - loss: 0.3244 - acc: 0.8520 - val_loss: 0.3915 - val_acc: 0.8136\n",
      "Epoch 37/100\n",
      "326500/327474 [============================>.] - ETA: 0s - loss: 0.3228 - acc: 0.8522Epoch 00036: val_acc did not improve\n",
      "327474/327474 [==============================] - 16s - loss: 0.3227 - acc: 0.8522 - val_loss: 0.3939 - val_acc: 0.8130\n",
      "Epoch 38/100\n",
      "327000/327474 [============================>.] - ETA: 0s - loss: 0.3213 - acc: 0.8538Epoch 00037: val_acc did not improve\n",
      "327474/327474 [==============================] - 16s - loss: 0.3213 - acc: 0.8538 - val_loss: 0.3972 - val_acc: 0.8126\n",
      "Epoch 39/100\n",
      "326500/327474 [============================>.] - ETA: 0s - loss: 0.3215 - acc: 0.8534Epoch 00038: val_acc did not improve\n",
      "327474/327474 [==============================] - 18s - loss: 0.3215 - acc: 0.8533 - val_loss: 0.3974 - val_acc: 0.8116\n",
      "Epoch 40/100\n",
      "326000/327474 [============================>.] - ETA: 0s - loss: 0.3202 - acc: 0.8541Epoch 00039: val_acc did not improve\n",
      "327474/327474 [==============================] - 16s - loss: 0.3203 - acc: 0.8541 - val_loss: 0.3991 - val_acc: 0.8116\n",
      "Epoch 41/100\n",
      "326500/327474 [============================>.] - ETA: 0s - loss: 0.3180 - acc: 0.8554Epoch 00040: val_acc did not improve\n",
      "327474/327474 [==============================] - 18s - loss: 0.3180 - acc: 0.8554 - val_loss: 0.3953 - val_acc: 0.8120\n",
      "Epoch 42/100\n",
      "327000/327474 [============================>.] - ETA: 0s - loss: 0.3176 - acc: 0.8556Epoch 00041: val_acc did not improve\n",
      "327474/327474 [==============================] - 16s - loss: 0.3176 - acc: 0.8556 - val_loss: 0.3925 - val_acc: 0.8142\n",
      "Epoch 43/100\n",
      "326500/327474 [============================>.] - ETA: 0s - loss: 0.3157 - acc: 0.8567Epoch 00042: val_acc did not improve\n",
      "327474/327474 [==============================] - 16s - loss: 0.3157 - acc: 0.8567 - val_loss: 0.3976 - val_acc: 0.8127\n",
      "Epoch 44/100\n",
      "326500/327474 [============================>.] - ETA: 0s - loss: 0.3158 - acc: 0.8564Epoch 00043: val_acc did not improve\n",
      "327474/327474 [==============================] - 15s - loss: 0.3157 - acc: 0.8564 - val_loss: 0.3975 - val_acc: 0.8147\n",
      "Epoch 45/100\n",
      "326000/327474 [============================>.] - ETA: 0s - loss: 0.3150 - acc: 0.8566Epoch 00044: val_acc did not improve\n",
      "327474/327474 [==============================] - 19s - loss: 0.3151 - acc: 0.8566 - val_loss: 0.4006 - val_acc: 0.8092\n",
      "Epoch 46/100\n",
      "327000/327474 [============================>.] - ETA: 0s - loss: 0.3145 - acc: 0.8574Epoch 00045: val_acc did not improve\n",
      "327474/327474 [==============================] - 16s - loss: 0.3144 - acc: 0.8574 - val_loss: 0.3972 - val_acc: 0.8128\n",
      "Epoch 47/100\n",
      "326500/327474 [============================>.] - ETA: 0s - loss: 0.3129 - acc: 0.8580Epoch 00046: val_acc improved from 0.81526 to 0.81565, saving model to base 4.h5\n",
      "327474/327474 [==============================] - 20s - loss: 0.3129 - acc: 0.8580 - val_loss: 0.3956 - val_acc: 0.8156\n",
      "Epoch 48/100\n",
      "326500/327474 [============================>.] - ETA: 0s - loss: 0.3121 - acc: 0.8588Epoch 00047: val_acc did not improve\n",
      "327474/327474 [==============================] - 16s - loss: 0.3123 - acc: 0.8587 - val_loss: 0.3949 - val_acc: 0.8122\n",
      "Epoch 49/100\n",
      "326500/327474 [============================>.] - ETA: 0s - loss: 0.3111 - acc: 0.8597Epoch 00048: val_acc did not improve\n",
      "327474/327474 [==============================] - 18s - loss: 0.3111 - acc: 0.8596 - val_loss: 0.3959 - val_acc: 0.8117\n"
     ]
    },
    {
     "data": {
      "text/plain": [
       "<keras.callbacks.History at 0x7efe5f4ff290>"
      ]
     },
     "execution_count": 16,
     "metadata": {},
     "output_type": "execute_result"
    }
   ],
   "source": [
    "model.fit([x1_train, x2_train], y=y_train, batch_size=500, epochs=100,\n",
    "verbose=1, validation_split=0.1, shuffle=True, callbacks=[checkpoint,estop])"
   ]
  },
  {
   "cell_type": "code",
   "execution_count": 15,
   "metadata": {},
   "outputs": [
    {
     "data": {
      "text/plain": [
       "0"
      ]
     },
     "execution_count": 15,
     "metadata": {},
     "output_type": "execute_result"
    }
   ],
   "source": [
    "#81.5% accuracy with a CNN model which is not a bad score.\n",
    "K.clear_session()\n",
    "del q1\n",
    "del q2\n",
    "del merged\n",
    "del model\n",
    "\n",
    "gc.collect()"
   ]
  },
  {
   "cell_type": "code",
   "execution_count": 17,
   "metadata": {},
   "outputs": [
    {
     "name": "stdout",
     "output_type": "stream",
     "text": [
      "Base 5\n",
      "Build Model . .\n",
      "____________________________________________________________________________________________________\n",
      "Layer (type)                     Output Shape          Param #     Connected to                     \n",
      "====================================================================================================\n",
      "input_3 (InputLayer)             (None, 30)            0                                            \n",
      "____________________________________________________________________________________________________\n",
      "input_4 (InputLayer)             (None, 30)            0                                            \n",
      "____________________________________________________________________________________________________\n",
      "embedding_3 (Embedding)          (None, 30, 300)       26510400    input_3[0][0]                    \n",
      "____________________________________________________________________________________________________\n",
      "embedding_4 (Embedding)          (None, 30, 300)       26510400    input_4[0][0]                    \n",
      "____________________________________________________________________________________________________\n",
      "lstm_3 (LSTM)                    (None, 30, 30)        39720       embedding_3[0][0]                \n",
      "____________________________________________________________________________________________________\n",
      "lstm_4 (LSTM)                    (None, 30, 30)        39720       embedding_4[0][0]                \n",
      "____________________________________________________________________________________________________\n",
      "add_1 (Add)                      (None, 30, 30)        0           lstm_3[0][0]                     \n",
      "                                                                   lstm_4[0][0]                     \n",
      "____________________________________________________________________________________________________\n",
      "flatten_1 (Flatten)              (None, 900)           0           add_1[0][0]                      \n",
      "____________________________________________________________________________________________________\n",
      "batch_normalization_1 (BatchNorm (None, 900)           3600        flatten_1[0][0]                  \n",
      "____________________________________________________________________________________________________\n",
      "dense_1 (Dense)                  (None, 90)            81090       batch_normalization_1[0][0]      \n",
      "____________________________________________________________________________________________________\n",
      "dropout_1 (Dropout)              (None, 90)            0           dense_1[0][0]                    \n",
      "____________________________________________________________________________________________________\n",
      "batch_normalization_2 (BatchNorm (None, 90)            360         dropout_1[0][0]                  \n",
      "____________________________________________________________________________________________________\n",
      "dense_2 (Dense)                  (None, 30)            2730        batch_normalization_2[0][0]      \n",
      "____________________________________________________________________________________________________\n",
      "dropout_2 (Dropout)              (None, 30)            0           dense_2[0][0]                    \n",
      "____________________________________________________________________________________________________\n",
      "batch_normalization_3 (BatchNorm (None, 30)            120         dropout_2[0][0]                  \n",
      "____________________________________________________________________________________________________\n",
      "dense_3 (Dense)                  (None, 1)             31          batch_normalization_3[0][0]      \n",
      "====================================================================================================\n",
      "Total params: 53,188,171\n",
      "Trainable params: 165,331\n",
      "Non-trainable params: 53,022,840\n",
      "____________________________________________________________________________________________________\n"
     ]
    }
   ],
   "source": [
    "print('Base 5')\n",
    "print('Build Model . .')\n",
    "\n",
    "question1 = Input(shape=(30,))\n",
    "question2 = Input(shape=(30,))\n",
    "\n",
    "q1 = Embedding(len(word_index) + 1, \n",
    "                 300, \n",
    "                 weights=[embedding_matrix], \n",
    "                 input_length=30, \n",
    "                 trainable=False)(question1)\n",
    "q1 = LSTM(30, return_sequences=True)(q1)\n",
    "\n",
    "q2 = Embedding(len(word_index) + 1, \n",
    "                 300, \n",
    "                 weights=[embedding_matrix], \n",
    "                 input_length=30, \n",
    "                 trainable=False)(question2)\n",
    "q2 = LSTM(30, return_sequences=True)(q2)\n",
    "\n",
    "\n",
    "merged = add([q1,q2])\n",
    "merged = Flatten()(merged)\n",
    "merged = BatchNormalization()(merged)\n",
    "merged = Dense(90, activation='relu')(merged)\n",
    "merged = Dropout(0.1)(merged)\n",
    "merged = BatchNormalization()(merged)\n",
    "merged = Dense(30, activation='relu')(merged)\n",
    "merged = Dropout(0.1)(merged)\n",
    "merged = BatchNormalization()(merged)\n",
    "merged = Dense(1, activation='sigmoid')(merged)\n",
    "\n",
    "model = Model(inputs=[question1,question2], outputs=merged)\n",
    "\n",
    "checkpoint = ModelCheckpoint('base 5.h5', monitor='val_acc', save_best_only=True, verbose=2)\n",
    "\n",
    "estop = EarlyStopping(monitor='val_loss', min_delta=0.0001, patience=20, verbose=0, mode='auto')\n",
    "\n",
    "\n",
    "model.compile(loss='binary_crossentropy', optimizer='adam', metrics=['accuracy'])\n",
    "model.summary()"
   ]
  },
  {
   "cell_type": "code",
   "execution_count": 18,
   "metadata": {
    "scrolled": false
   },
   "outputs": [
    {
     "name": "stdout",
     "output_type": "stream",
     "text": [
      "Train on 327474 samples, validate on 36387 samples\n",
      "Epoch 1/100\n",
      "327000/327474 [============================>.] - ETA: 0s - loss: 0.5667 - acc: 0.7009Epoch 00000: val_acc improved from -inf to 0.73694, saving model to base 5.h5\n",
      "327474/327474 [==============================] - 40s - loss: 0.5666 - acc: 0.7009 - val_loss: 0.5244 - val_acc: 0.7369\n",
      "Epoch 2/100\n",
      "327000/327474 [============================>.] - ETA: 0s - loss: 0.4899 - acc: 0.7573Epoch 00001: val_acc improved from 0.73694 to 0.75653, saving model to base 5.h5\n",
      "327474/327474 [==============================] - 45s - loss: 0.4898 - acc: 0.7573 - val_loss: 0.4826 - val_acc: 0.7565\n",
      "Epoch 3/100\n",
      "327000/327474 [============================>.] - ETA: 0s - loss: 0.4532 - acc: 0.7791Epoch 00002: val_acc improved from 0.75653 to 0.77739, saving model to base 5.h5\n",
      "327474/327474 [==============================] - 48s - loss: 0.4532 - acc: 0.7791 - val_loss: 0.4549 - val_acc: 0.7774\n",
      "Epoch 4/100\n",
      "327000/327474 [============================>.] - ETA: 0s - loss: 0.4267 - acc: 0.7950Epoch 00003: val_acc improved from 0.77739 to 0.78506, saving model to base 5.h5\n",
      "327474/327474 [==============================] - 49s - loss: 0.4267 - acc: 0.7950 - val_loss: 0.4431 - val_acc: 0.7851\n",
      "Epoch 5/100\n",
      "327000/327474 [============================>.] - ETA: 0s - loss: 0.4048 - acc: 0.8080Epoch 00004: val_acc improved from 0.78506 to 0.78940, saving model to base 5.h5\n",
      "327474/327474 [==============================] - 50s - loss: 0.4048 - acc: 0.8080 - val_loss: 0.4360 - val_acc: 0.7894\n",
      "Epoch 6/100\n",
      "327000/327474 [============================>.] - ETA: 0s - loss: 0.3875 - acc: 0.8183Epoch 00005: val_acc improved from 0.78940 to 0.79111, saving model to base 5.h5\n",
      "327474/327474 [==============================] - 50s - loss: 0.3875 - acc: 0.8182 - val_loss: 0.4386 - val_acc: 0.7911\n",
      "Epoch 7/100\n",
      "327000/327474 [============================>.] - ETA: 0s - loss: 0.3706 - acc: 0.8279Epoch 00006: val_acc improved from 0.79111 to 0.79418, saving model to base 5.h5\n",
      "327474/327474 [==============================] - 54s - loss: 0.3705 - acc: 0.8279 - val_loss: 0.4300 - val_acc: 0.7942\n",
      "Epoch 8/100\n",
      "327000/327474 [============================>.] - ETA: 0s - loss: 0.3570 - acc: 0.8361Epoch 00007: val_acc improved from 0.79418 to 0.79611, saving model to base 5.h5\n",
      "327474/327474 [==============================] - 52s - loss: 0.3570 - acc: 0.8361 - val_loss: 0.4411 - val_acc: 0.7961\n",
      "Epoch 9/100\n",
      "327000/327474 [============================>.] - ETA: 0s - loss: 0.3438 - acc: 0.8424Epoch 00008: val_acc improved from 0.79611 to 0.79899, saving model to base 5.h5\n",
      "327474/327474 [==============================] - 51s - loss: 0.3438 - acc: 0.8424 - val_loss: 0.4294 - val_acc: 0.7990\n",
      "Epoch 10/100\n",
      "327000/327474 [============================>.] - ETA: 0s - loss: 0.3320 - acc: 0.8492Epoch 00009: val_acc improved from 0.79899 to 0.80078, saving model to base 5.h5\n",
      "327474/327474 [==============================] - 49s - loss: 0.3319 - acc: 0.8492 - val_loss: 0.4339 - val_acc: 0.8008\n",
      "Epoch 11/100\n",
      "327000/327474 [============================>.] - ETA: 0s - loss: 0.3206 - acc: 0.8553Epoch 00010: val_acc did not improve\n",
      "327474/327474 [==============================] - 50s - loss: 0.3205 - acc: 0.8553 - val_loss: 0.4416 - val_acc: 0.7980\n",
      "Epoch 12/100\n",
      "327000/327474 [============================>.] - ETA: 0s - loss: 0.3105 - acc: 0.8601Epoch 00011: val_acc did not improve\n",
      "327474/327474 [==============================] - 50s - loss: 0.3105 - acc: 0.8601 - val_loss: 0.4518 - val_acc: 0.7969\n",
      "Epoch 13/100\n",
      "327000/327474 [============================>.] - ETA: 0s - loss: 0.3020 - acc: 0.8651Epoch 00012: val_acc did not improve\n",
      "327474/327474 [==============================] - 50s - loss: 0.3021 - acc: 0.8651 - val_loss: 0.4554 - val_acc: 0.7989\n",
      "Epoch 14/100\n",
      "327000/327474 [============================>.] - ETA: 0s - loss: 0.2929 - acc: 0.8699Epoch 00013: val_acc did not improve\n",
      "327474/327474 [==============================] - 48s - loss: 0.2929 - acc: 0.8699 - val_loss: 0.4632 - val_acc: 0.7994\n",
      "Epoch 15/100\n",
      "327000/327474 [============================>.] - ETA: 0s - loss: 0.2844 - acc: 0.8739Epoch 00014: val_acc did not improve\n",
      "327474/327474 [==============================] - 47s - loss: 0.2843 - acc: 0.8740 - val_loss: 0.4631 - val_acc: 0.7988\n",
      "Epoch 16/100\n",
      "327000/327474 [============================>.] - ETA: 0s - loss: 0.2779 - acc: 0.8772Epoch 00015: val_acc did not improve\n",
      "327474/327474 [==============================] - 50s - loss: 0.2779 - acc: 0.8772 - val_loss: 0.4807 - val_acc: 0.7992\n",
      "Epoch 17/100\n",
      "327000/327474 [============================>.] - ETA: 0s - loss: 0.2700 - acc: 0.8807Epoch 00016: val_acc did not improve\n",
      "327474/327474 [==============================] - 49s - loss: 0.2700 - acc: 0.8807 - val_loss: 0.4864 - val_acc: 0.7997\n",
      "Epoch 18/100\n",
      "327000/327474 [============================>.] - ETA: 0s - loss: 0.2633 - acc: 0.8847Epoch 00017: val_acc did not improve\n",
      "327474/327474 [==============================] - 52s - loss: 0.2633 - acc: 0.8847 - val_loss: 0.4842 - val_acc: 0.8007\n",
      "Epoch 19/100\n",
      "327000/327474 [============================>.] - ETA: 0s - loss: 0.2583 - acc: 0.8868Epoch 00018: val_acc did not improve\n",
      "327474/327474 [==============================] - 56s - loss: 0.2584 - acc: 0.8868 - val_loss: 0.4962 - val_acc: 0.7998\n",
      "Epoch 20/100\n",
      "327000/327474 [============================>.] - ETA: 0s - loss: 0.2521 - acc: 0.8904Epoch 00019: val_acc did not improve\n",
      "327474/327474 [==============================] - 54s - loss: 0.2521 - acc: 0.8904 - val_loss: 0.5128 - val_acc: 0.7934\n",
      "Epoch 21/100\n",
      "327000/327474 [============================>.] - ETA: 0s - loss: 0.2462 - acc: 0.8934Epoch 00020: val_acc did not improve\n",
      "327474/327474 [==============================] - 55s - loss: 0.2462 - acc: 0.8933 - val_loss: 0.5211 - val_acc: 0.7942\n",
      "Epoch 22/100\n",
      "327000/327474 [============================>.] - ETA: 0s - loss: 0.2421 - acc: 0.8947Epoch 00021: val_acc did not improve\n",
      "327474/327474 [==============================] - 52s - loss: 0.2420 - acc: 0.8947 - val_loss: 0.5197 - val_acc: 0.7964\n",
      "Epoch 23/100\n",
      "327000/327474 [============================>.] - ETA: 0s - loss: 0.2363 - acc: 0.8977Epoch 00022: val_acc did not improve\n",
      "327474/327474 [==============================] - 54s - loss: 0.2363 - acc: 0.8977 - val_loss: 0.5357 - val_acc: 0.7984\n",
      "Epoch 24/100\n",
      "327000/327474 [============================>.] - ETA: 0s - loss: 0.2321 - acc: 0.8999Epoch 00023: val_acc did not improve\n",
      "327474/327474 [==============================] - 52s - loss: 0.2321 - acc: 0.8999 - val_loss: 0.5354 - val_acc: 0.7989\n",
      "Epoch 25/100\n",
      "327000/327474 [============================>.] - ETA: 0s - loss: 0.2280 - acc: 0.9024- ETA: 1s - loss: 0.2276 - aEpoch 00024: val_acc did not improve\n",
      "327474/327474 [==============================] - 55s - loss: 0.2281 - acc: 0.9024 - val_loss: 0.5566 - val_acc: 0.7976\n",
      "Epoch 26/100\n",
      "327000/327474 [============================>.] - ETA: 0s - loss: 0.2245 - acc: 0.9035Epoch 00025: val_acc did not improve\n",
      "327474/327474 [==============================] - 60s - loss: 0.2245 - acc: 0.9035 - val_loss: 0.5511 - val_acc: 0.7962\n",
      "Epoch 27/100\n",
      "327000/327474 [============================>.] - ETA: 0s - loss: 0.2194 - acc: 0.9062Epoch 00026: val_acc did not improve\n",
      "327474/327474 [==============================] - 54s - loss: 0.2195 - acc: 0.9062 - val_loss: 0.5716 - val_acc: 0.7969\n",
      "Epoch 28/100\n",
      "327000/327474 [============================>.] - ETA: 0s - loss: 0.2161 - acc: 0.9081Epoch 00027: val_acc did not improve\n",
      "327474/327474 [==============================] - 54s - loss: 0.2161 - acc: 0.9082 - val_loss: 0.5599 - val_acc: 0.7948\n",
      "Epoch 29/100\n",
      "327000/327474 [============================>.] - ETA: 0s - loss: 0.2131 - acc: 0.9094Epoch 00028: val_acc did not improve\n",
      "327474/327474 [==============================] - 51s - loss: 0.2131 - acc: 0.9094 - val_loss: 0.5825 - val_acc: 0.7985\n",
      "Epoch 30/100\n",
      "327000/327474 [============================>.] - ETA: 0s - loss: 0.2096 - acc: 0.9108Epoch 00029: val_acc did not improve\n",
      "327474/327474 [==============================] - 55s - loss: 0.2096 - acc: 0.9108 - val_loss: 0.5589 - val_acc: 0.7923\n"
     ]
    },
    {
     "data": {
      "text/plain": [
       "<keras.callbacks.History at 0x7fece1027290>"
      ]
     },
     "execution_count": 18,
     "metadata": {},
     "output_type": "execute_result"
    }
   ],
   "source": [
    "model.fit([x1_train, x2_train], y=y_train, batch_size=1000, epochs=100,\n",
    "verbose=1, validation_split=0.1, shuffle=True, callbacks=[checkpoint,estop])"
   ]
  },
  {
   "cell_type": "code",
   "execution_count": null,
   "metadata": {
    "collapsed": true
   },
   "outputs": [],
   "source": []
  }
 ],
 "metadata": {
  "kernelspec": {
   "display_name": "Python 2",
   "language": "python",
   "name": "python2"
  },
  "language_info": {
   "codemirror_mode": {
    "name": "ipython",
    "version": 2
   },
   "file_extension": ".py",
   "mimetype": "text/x-python",
   "name": "python",
   "nbconvert_exporter": "python",
   "pygments_lexer": "ipython2",
   "version": "2.7.13"
  }
 },
 "nbformat": 4,
 "nbformat_minor": 2
}
